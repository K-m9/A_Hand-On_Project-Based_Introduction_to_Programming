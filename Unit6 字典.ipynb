{
 "cells": [
  {
   "cell_type": "markdown",
   "metadata": {},
   "source": [
    "## 6.1 人\n",
    "使用一个字典来存储一个熟人的信息，包括名、姓、年龄和居住的城市。该字典应包含健first_name、last_name、age和city。将存储在该字典中的每项信息都打印出来。"
   ]
  },
  {
   "cell_type": "code",
   "execution_count": 2,
   "metadata": {},
   "outputs": [
    {
     "name": "stdout",
     "output_type": "stream",
     "text": [
      "Karen Chen, whose age is 100, living in Glasgow.\n"
     ]
    }
   ],
   "source": [
    "info={'first_name':'Karen',\n",
    "      'last_name':'Chen',\n",
    "      'age':'100',\n",
    "      'city':'Glasgow',\n",
    "     }\n",
    "\n",
    "print(info['first_name']+' '+info['last_name']+', whose age is '+info['age']+', living in '+info['city']+'.')"
   ]
  },
  {
   "cell_type": "markdown",
   "metadata": {},
   "source": [
    "## 6.2 喜欢的数字\n",
    "使用一个字典来存储一些人喜欢的数字。请想出5个人的名字，并将这些名字用作字典中的健；想出每个人喜欢的一个数字，并将这些数字作为值存储在字典中。打印每个人的名字和喜欢的数字。为让这个程序更有趣，通过询问朋友确保数据是真实的。\n",
    "\n",
    "略"
   ]
  },
  {
   "cell_type": "markdown",
   "metadata": {},
   "source": [
    "## 6.3-6.4 词汇表\n",
    "略"
   ]
  },
  {
   "cell_type": "markdown",
   "metadata": {},
   "source": [
    "## 6.5 河流\n",
    "创建一个字典，在其中存储三条大河流及其流经的国家。其中一个键-值对可能是'nile':''egypt。\n",
    "- 使用循环为每条河流打印一条消息，如\"The Nile runs through Egypt.\"。\n",
    "- 使用循环将该字典中每条河流的名字都打印出来。\n",
    "- 使用循环将该字典包含的每个国家的名字都打印出来。"
   ]
  },
  {
   "cell_type": "code",
   "execution_count": 6,
   "metadata": {},
   "outputs": [
    {
     "name": "stdout",
     "output_type": "stream",
     "text": [
      "Nile runs through Egypyt.\n",
      "Amazon runs through Ucayali.\n",
      "The Yangtze River runs through Chia.\n"
     ]
    }
   ],
   "source": [
    "rivers={'nile':'egypyt','Amazon':'Ucayali','The Yangtze river':'chia'}\n",
    "for river,city in rivers.items():\n",
    "    print(river.title()+' runs through '+city.title()+'.')"
   ]
  },
  {
   "cell_type": "code",
   "execution_count": 13,
   "metadata": {},
   "outputs": [
    {
     "name": "stdout",
     "output_type": "stream",
     "text": [
      "Nile\n",
      "Amazon\n",
      "The Yangtze River\n"
     ]
    }
   ],
   "source": [
    "for river in rivers.keys():\n",
    "    print(river.title())"
   ]
  },
  {
   "cell_type": "code",
   "execution_count": 14,
   "metadata": {},
   "outputs": [
    {
     "name": "stdout",
     "output_type": "stream",
     "text": [
      "Egypyt\n",
      "Ucayali\n",
      "Chia\n"
     ]
    }
   ],
   "source": [
    "for city in rivers.values():\n",
    "    print(city.title())"
   ]
  },
  {
   "cell_type": "markdown",
   "metadata": {},
   "source": [
    "## 6.6 调查\n",
    "在6.3.1节编写的程序favorite_languages.py中执行以下操作。\n",
    "- 创建一个应该会接受调查的人员名单，其中有些人已包含在字典中，而其他人未包含在字典中。\n",
    "- 遍历这个人员名单，对于已参与调查的人，打印一条消息表示感谢。对于还未参与调查的人，打印一条消息邀请他参与调查。"
   ]
  },
  {
   "cell_type": "code",
   "execution_count": 1,
   "metadata": {},
   "outputs": [
    {
     "name": "stdout",
     "output_type": "stream",
     "text": [
      "Dear Jenny, We would like to invite you to an survey about favorite languages. We look forward to hearing from you.\n",
      "Dear Jessy, We would like to invite you to an survey about favorite languages. We look forward to hearing from you.\n",
      "Thanks for participating in this survey.\n",
      "Thanks for participating in this survey.\n",
      "Thanks for participating in this survey.\n",
      "Thanks for participating in this survey.\n"
     ]
    }
   ],
   "source": [
    "favorite_languages={\n",
    "    'jen':'python',\n",
    "    'sarah':'c',\n",
    "    'edward':'ruby',\n",
    "    'phil':'python',\n",
    "}\n",
    "participants={\n",
    "    'Jenny':'c++',\n",
    "    'Jessy':'java',\n",
    "    'jen':'python',\n",
    "    'sarah':'c',\n",
    "    'edward':'ruby',\n",
    "    'phil':'python',\n",
    "}\n",
    "\n",
    "for name in participants.keys():\n",
    "    if name in favorite_languages.keys():\n",
    "        print('Thanks for participating in this survey.')\n",
    "    else:\n",
    "        print('Dear '+name+', We would like to invite you to an survey about favorite languages. We look forward to hearing from you.')"
   ]
  },
  {
   "cell_type": "markdown",
   "metadata": {},
   "source": [
    "## 6.7-6.10 略"
   ]
  },
  {
   "cell_type": "markdown",
   "metadata": {},
   "source": [
    "## 6.11 城市\n",
    "创建一个名为cities的字典，其中将三个城市名用作键；对于每座城市，都创建一个字典，并在其中包含该城市所属的国家、人口约数以及一个有关该城市的事实。在表示每座城市的字典中，应包含country、population和fact等键。将每座城市的名字以及有关他们的信息都打印出来。"
   ]
  },
  {
   "cell_type": "code",
   "execution_count": 7,
   "metadata": {},
   "outputs": [
    {
     "name": "stdout",
     "output_type": "stream",
     "text": [
      "Guangzhou, a first-tier city, belongs to China, with a population of 15300000.\n",
      "Glasgow, a beautiful city, belongs to Britain, with a population of 591620.\n",
      "Shenzhen, a high-tech city, belongs to China, with a population of 12528300.\n"
     ]
    }
   ],
   "source": [
    "cities={\n",
    "    'guangzhou':{'country':'China','population':15300000,'fact':'a first-tier city'},\n",
    "    'glasgow':{'country':'Britain','population':591620,'fact':'a beautiful city'},\n",
    "    'shenzhen':{'country':'China','population':12528300,'fact':'a high-tech city'},\n",
    "}\n",
    "\n",
    "for city,info in cities.items():\n",
    "    print(city.title()+', '+info['fact']+', '+'belongs to '+info['country']+', with a population of '+str(info['population'])+'.')"
   ]
  },
  {
   "cell_type": "markdown",
   "metadata": {},
   "source": [
    "## 6.12 略"
   ]
  }
 ],
 "metadata": {
  "kernelspec": {
   "display_name": "Python 3",
   "language": "python",
   "name": "python3"
  },
  "language_info": {
   "codemirror_mode": {
    "name": "ipython",
    "version": 3
   },
   "file_extension": ".py",
   "mimetype": "text/x-python",
   "name": "python",
   "nbconvert_exporter": "python",
   "pygments_lexer": "ipython3",
   "version": "3.7.3"
  }
 },
 "nbformat": 4,
 "nbformat_minor": 2
}
