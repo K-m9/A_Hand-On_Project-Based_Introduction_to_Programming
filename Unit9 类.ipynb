{
 "cells": [
  {
   "cell_type": "code",
   "execution_count": 4,
   "metadata": {},
   "outputs": [],
   "source": [
    "from IPython.core.interactiveshell import InteractiveShell\n",
    "InteractiveShell.ast_node_interactivity='all'"
   ]
  },
  {
   "cell_type": "markdown",
   "metadata": {},
   "source": [
    "## 9.1 餐厅\n",
    "创建一个名为Restaurant的类，其方法_init_()设置两个属性：restuarant_name和cuisine_type。创建一个名为describe_restaurant()的方法和一个名为open_restaurant()的方法，其中前者打印前述两项信息，而后则打印一条消息，指出餐馆正在营业。\n",
    "\n",
    "根据这个类创建一个名为restaurant的实例，分别打印其他两个属性，再调用前述两个方法。"
   ]
  },
  {
   "cell_type": "code",
   "execution_count": 15,
   "metadata": {},
   "outputs": [
    {
     "name": "stdout",
     "output_type": "stream",
     "text": [
      "restaurant name: Mcdonald\n",
      "cuisine type: Fastfood\n",
      "The restaurant is open now.\n"
     ]
    }
   ],
   "source": [
    "class Restaurant():\n",
    "    '''模拟餐馆营业状态'''\n",
    "    def __init__(self,name,cuisine_type):\n",
    "        self.restaurant_name=name\n",
    "        self.cuisine_type=cuisine_type\n",
    "        \n",
    "    def describe_restaurant(self):\n",
    "        '''打印餐馆名称和类型'''\n",
    "        print('restaurant name: '+self.restaurant_name.title())\n",
    "        print('cuisine type: '+self.cuisine_type.title())\n",
    "    \n",
    "    def open_restaurant(self):\n",
    "        print('The restaurant is open now.')\n",
    "        \n",
    "restaurant=Restaurant('McDonald','fastfood')\n",
    "restaurant.describe_restaurant()\n",
    "restaurant.open_restaurant()"
   ]
  },
  {
   "cell_type": "markdown",
   "metadata": {},
   "source": [
    "## 9.2 三家餐馆\n",
    "根据你为完成练习9-1而编写的类创建三个实例，并对每个实例调用方法describe_restaurant()。"
   ]
  },
  {
   "cell_type": "code",
   "execution_count": 16,
   "metadata": {},
   "outputs": [
    {
     "name": "stdout",
     "output_type": "stream",
     "text": [
      "restaurant name: Kfc\n",
      "cuisine type: Fastfood\n",
      "restaurant name: Pizza Hot\n",
      "cuisine type: Pizza\n",
      "restaurant name: Subway\n",
      "cuisine type: Pizza\n"
     ]
    }
   ],
   "source": [
    "KFC=Restaurant('KFC','fastfood')\n",
    "pizza_hot=Restaurant('pizza hot','pizza')\n",
    "subway=Restaurant('subway','pizza')\n",
    "KFC.describe_restaurant()\n",
    "pizza_hot.describe_restaurant()\n",
    "subway.describe_restaurant()"
   ]
  },
  {
   "cell_type": "markdown",
   "metadata": {},
   "source": [
    "## 9.3 用户\n",
    "创建一个名为User的类，其中包含属性first_name和last_name，还有用户简介通常会存储的其他几个属性。在类User中定义一个名为describe_user()的方法，它打印用户信息摘要；再定义一个名为greet_user()的方法，它向用户发出个性化的问候。\n",
    "\n",
    "创建多个表示不同用户的实例，并对每个实例都调用上述两个方法。"
   ]
  },
  {
   "cell_type": "code",
   "execution_count": 25,
   "metadata": {},
   "outputs": [
    {
     "name": "stdout",
     "output_type": "stream",
     "text": [
      "user name: Taylor Swift\n",
      "user info:{'job': 'singer'}\n",
      "user name: Taylor Swift\n",
      "user info:{'job': 'singer', 'sex': 'female'}\n"
     ]
    }
   ],
   "source": [
    "class User():\n",
    "    def __init__(self,first_name,last_name,**attributes):\n",
    "        '''用户个人信息'''\n",
    "        self.first_name=first_name\n",
    "        self.last_name=last_name\n",
    "        user_attributes={}\n",
    "        for attr,value in attributes.items():\n",
    "            user_attributes[attr]=value\n",
    "        self.user_attributes=user_attributes\n",
    "    \n",
    "    def describe_user(self):\n",
    "        '''描述用户基本信息'''\n",
    "        user_name=self.first_name.title()+' '+self.last_name.title()\n",
    "        print('user name: '+ user_name)\n",
    "        print('user info:'+ str(self.user_attributes))\n",
    "    \n",
    "    def greet_user(self):\n",
    "        user_name=self.first_name.title()+' '+self.last_name.title()\n",
    "        print('Welcome, '+user_name+'!')\n",
    "    \n",
    "user1=User('Taylor','swift',job='singer')\n",
    "user1.describe_user()\n",
    "user2=User('Taylor','swift',job='singer',sex='female')\n",
    "user2.describe_user()"
   ]
  },
  {
   "cell_type": "markdown",
   "metadata": {},
   "source": [
    "## 9.4 就餐人数\n",
    "在完成练习9-1而编写的程序中，添加一个名为number_served的属性，并将其默认值设置为0。根据这个类创建一个名为restaurant的实例；打印有多少人在这家餐馆就餐过，然后修改这个值并再次打印它。\n",
    "\n",
    "添加一个名为set_number_served()的方法，它让你能够设置就餐人数。调用这个方法并向它传递一个值，然后再次打印这个值。\n",
    "\n",
    "添加一个名为increment_number_served()的方法，它让你能够将就餐人数递增。调用这个方法并向它传递一个这样的值：你认为这家餐馆每天可能接待的就餐人数。"
   ]
  },
  {
   "cell_type": "code",
   "execution_count": 1,
   "metadata": {},
   "outputs": [
    {
     "name": "stdout",
     "output_type": "stream",
     "text": [
      "0 people had dinner in the restaurant.\n",
      "3 people had dinner in the restaurant.\n"
     ]
    }
   ],
   "source": [
    "class Restaurant():\n",
    "    '''模拟餐馆营业状态'''\n",
    "    def __init__(self,name,cuisine_type):\n",
    "        self.restaurant_name=name\n",
    "        self.cuisine_type=cuisine_type\n",
    "        self.number_served=0\n",
    "        \n",
    "    def describe_restaurant(self):\n",
    "        '''打印餐馆名称和类型'''\n",
    "        print('restaurant name: '+self.restaurant_name.title())\n",
    "        print('cuisine type: '+self.cuisine_type.title())\n",
    "    \n",
    "    def open_restaurant(self):\n",
    "        print('The restaurant is open now.')\n",
    "    \n",
    "    def set_number_served(self):\n",
    "        print(str(self.number_served)+' people had dinner in the restaurant.')\n",
    "    \n",
    "    def increment_number_served(self,new_served):\n",
    "        self.number_served+=new_served\n",
    "        \n",
    "restaurant=Restaurant('McDonald','fastfood')\n",
    "restaurant.set_number_served()\n",
    "restaurant.increment_number_served(3)\n",
    "restaurant.set_number_served()"
   ]
  },
  {
   "cell_type": "markdown",
   "metadata": {},
   "source": [
    "## 9.5 尝试登陆次数\n",
    "在为完成练习9-3编写的User类中，添加一个名为login_attempts的属性。编写一个名为reset_login_attempts()的方法，它将属性login_attempts的值加1。再编写一个名为reset_login_attempts()的方法，它将属性login_attempts()的值重置为0。\n",
    "\n",
    "根据User类创建一个实例，再调用方法increment_login_attempts()多次。打印属性login_attempts的值，确认它被正确地递增；然后调用方法reset_login_attempts()，并再次打印属性login_attempts的值，确保他被重置为0。"
   ]
  },
  {
   "cell_type": "code",
   "execution_count": 4,
   "metadata": {},
   "outputs": [
    {
     "data": {
      "text/plain": [
       "3"
      ]
     },
     "execution_count": 4,
     "metadata": {},
     "output_type": "execute_result"
    },
    {
     "data": {
      "text/plain": [
       "0"
      ]
     },
     "execution_count": 4,
     "metadata": {},
     "output_type": "execute_result"
    }
   ],
   "source": [
    "class User():\n",
    "    def __init__(self,first_name,last_name,login_attempts,**attributes):\n",
    "        '''用户个人信息'''\n",
    "        self.first_name=first_name\n",
    "        self.last_name=last_name\n",
    "        user_attributes={}\n",
    "        for attr,value in attributes.items():\n",
    "            user_attributes[attr]=value\n",
    "        self.user_attributes=user_attributes\n",
    "        self.login_attempts=login_attempts\n",
    "    \n",
    "    def describe_user(self):\n",
    "        '''描述用户基本信息'''\n",
    "        user_name=self.first_name.title()+' '+self.last_name.title()\n",
    "        print('user name: '+ user_name)\n",
    "        print('user info:'+ str(self.user_attributes))\n",
    "    \n",
    "    def greet_user(self):\n",
    "        user_name=self.first_name.title()+' '+self.last_name.title()\n",
    "        print('Welcome, '+user_name+'!')\n",
    "        \n",
    "    def increment_login_attempts(self):\n",
    "        self.login_attempts+=1\n",
    "    \n",
    "    def reset_login_attempts(self):\n",
    "        self.login_attempts=0\n",
    "    \n",
    "user1=User('Taylor','swift',2,job='singer')\n",
    "user1.increment_login_attempts()\n",
    "user1.login_attempts\n",
    "user1.reset_login_attempts()\n",
    "user1.login_attempts"
   ]
  },
  {
   "cell_type": "markdown",
   "metadata": {},
   "source": [
    "## 9.6 冰淇淋小店\n",
    "冰淇淋小店是一种特殊的餐馆。编写一个名为IceCreamStand的类，让他继承你未完成练习9-1或练习9-4而编写的Restaurant类。这两个版本的Restaurant类都可以，挑选你更喜欢的那个即可。添加一个名为flavors的属性，用于存储一个有各种口味的冰淇淋组成的列表。编写一个显示这些冰淇淋的方法。创建一个IceCreamStand实例，并调用这个方法。"
   ]
  },
  {
   "cell_type": "code",
   "execution_count": 15,
   "metadata": {},
   "outputs": [
    {
     "name": "stdout",
     "output_type": "stream",
     "text": [
      "The flavor of this icecream is: ['sweet']\n",
      "The flavor of this icecream are: ['sweet', 'chocolate']\n"
     ]
    }
   ],
   "source": [
    "class IceCreamStand(Restaurant):\n",
    "    def __init__(self,name,cuisine_type,*flavor):\n",
    "        '''初始化父类属性'''\n",
    "        super().__init__(name,cuisine_type)\n",
    "        flavors=[]\n",
    "        for fla in flavor:\n",
    "            flavors.append(fla)\n",
    "        self.flavors=flavors\n",
    "        \n",
    "    def show_icecreams(self):\n",
    "        if len(self.flavors)==1:\n",
    "            print('The flavor of this icecream is: '+str(self.flavors))\n",
    "        else:\n",
    "            print('The flavor of this icecream are: '+str(self.flavors))\n",
    "chocolate_icecream=IceCreamStand('chocolate_icecream','dessert','sweet')\n",
    "chocolate_icecream.show_icecreams()\n",
    "chocolate_icecream2=IceCreamStand('chocolate_icecream','dessert','sweet','chocolate')\n",
    "chocolate_icecream2.show_icecreams()"
   ]
  },
  {
   "cell_type": "markdown",
   "metadata": {},
   "source": [
    "## 9.7 管理员\n",
    "管理员是一种特殊的用户，编写一个名为Admin的类，让它继承你为完成练习9-3或练习9-5而编写的User类。添加一个名为privileges的属性，用于存储一个由字符串(如\"cand add post\"、\"can delete post\"、\"can ban user\"等)组成的列表。编写一个名为show_privileges()的方法，它显示管理员的权限。创建一个Admin实例，并调用这个方法。"
   ]
  },
  {
   "cell_type": "code",
   "execution_count": 26,
   "metadata": {},
   "outputs": [
    {
     "name": "stdout",
     "output_type": "stream",
     "text": [
      "The privileges of Admin are ['add', 'update', 'create', 'delete'].\n",
      "The privilege of Admin is ['add'].\n"
     ]
    }
   ],
   "source": [
    "class Admin(User):\n",
    "    def __init__(self,first_name,last_name,login_attempts,privileges,**attributes):\n",
    "        '''继承User父类'''\n",
    "        super().__init__(first_name,last_name,login_attempts,**attributes)\n",
    "        self.privileges=privileges\n",
    "        self.user_name='Admin'\n",
    "    \n",
    "    def show_privileges(self):\n",
    "        '''显示用户权限'''\n",
    "        if len(self.privileges)==1:\n",
    "            print('The privilege of '+self.user_name+' is '+str(self.privileges)+'.')\n",
    "        else:\n",
    "            print('The privileges of '+self.user_name+' are '+str(self.privileges)+'.')\n",
    "\n",
    "admin=Admin('','','3',['add','update','create','delete'])\n",
    "admin.show_privileges()\n",
    "admin1=Admin('','','3',['add'])\n",
    "admin1.show_privileges()"
   ]
  },
  {
   "cell_type": "markdown",
   "metadata": {},
   "source": [
    "## 9.8 权限\n",
    "编写一个名为Privileges的类，它只有一个属性----privileges，其中存储了练习9-7所说的字符串列表。将方法show_privileges()移到这个类中。在Admin类中，将一个Privileges实例用作其属性。创建一个Admin实例，并使用方法show_privileges()来显示其权限。"
   ]
  },
  {
   "cell_type": "code",
   "execution_count": 37,
   "metadata": {},
   "outputs": [
    {
     "name": "stdout",
     "output_type": "stream",
     "text": [
      "The privileges of Admin are ['cand add post', 'can delete post', 'can ban user'].\n",
      "The privileges of Admin are ['cand add post', 'can delete post', 'can ban user'].\n"
     ]
    }
   ],
   "source": [
    "class Privileges():\n",
    "    def __init__(self):\n",
    "        self.privileges=[\"cand add post\",\"can delete post\",\"can ban user\"]\n",
    "    \n",
    "    def show_privileges(self):\n",
    "        '''显示用户权限'''\n",
    "        if len(self.privileges)==1:\n",
    "            print('The privilege of Admin is '+str(self.privileges)+'.')\n",
    "        else:\n",
    "            print('The privileges of Admin are '+str(self.privileges)+'.')\n",
    "\n",
    "class Admin():\n",
    "    def __init__(self,**attributes):\n",
    "        self.user_name='Admin'\n",
    "        self.privileges=Privileges()\n",
    "\n",
    "b=Privileges()\n",
    "b.show_privileges()\n",
    "\n",
    "admin=Admin()\n",
    "admin.privileges.show_privileges()"
   ]
  },
  {
   "cell_type": "markdown",
   "metadata": {},
   "source": [
    "## 9.9 电瓶升级\n",
    "在本节最后一个electric_car.py版本中，给Battery类添加一个名为upgrade_battery()的方法。这个方法检查电瓶容量，如果它不是85，就将它设置为85。创建一辆电瓶容量为默认值的电动汽车，调用方法get_range()，然后对电瓶进行升级，并再次调用get_range()。你会看到这辆汽车的续航里程增加了。"
   ]
  },
  {
   "cell_type": "code",
   "execution_count": 7,
   "metadata": {},
   "outputs": [],
   "source": [
    "class Car():\n",
    "    def __init__(self,make,model,year):\n",
    "        self.make=make\n",
    "        self.model=model\n",
    "        self.year=year\n",
    "        self.odometer_reading=0\n",
    "    \n",
    "    def get_description_name(self):\n",
    "        long_name=str(self.year)+' '+self.make+' '+self.model\n",
    "        return long_name.title()\n",
    "    \n",
    "    def read_odometer(self):\n",
    "        print('This car has '+str(self.odometer_reading)+' miles on it.')\n",
    "        \n",
    "    def update_odometer(self,mileage):\n",
    "        if mileage>= self.odometer_reading:\n",
    "            self.odometer_reading=mileage\n",
    "        else:\n",
    "            print('Your can\\'t roll back an odometer!')\n",
    "        \n",
    "    def increment_odometer(self,miles):\n",
    "        self.odometer_reading+=miles\n",
    "\n",
    "class Battery():\n",
    "    def __init__(self,battery_size=70):\n",
    "        self.battery_size=battery_size\n",
    "        \n",
    "    def describe_battery(self):\n",
    "        print('This car has a '+str(self.battery_size)+'-kwh battery.')\n",
    "        \n",
    "    def get_range(self):\n",
    "        if self.battery_size==70:\n",
    "            the_range = 240\n",
    "        elif self.battery_size==85:\n",
    "            the_range = 270\n",
    "            \n",
    "        message='This car can go approximately '+str(the_range)\n",
    "        message+= ' miles on a full charge.'\n",
    "        print(message)\n",
    "        \n",
    "    def update_battery(self):\n",
    "        if self.battery_size != 85:\n",
    "            self.battery_size = 85\n",
    "\n",
    "class ElectricCar(Car):\n",
    "    def __init__(self,make,model,year):\n",
    "        super().__init__(make,model,year)\n",
    "        self.battery=Battery()"
   ]
  },
  {
   "cell_type": "code",
   "execution_count": 11,
   "metadata": {},
   "outputs": [
    {
     "name": "stdout",
     "output_type": "stream",
     "text": [
      "This car can go approximately 240 miles on a full charge.\n",
      "This car can go approximately 270 miles on a full charge.\n"
     ]
    }
   ],
   "source": [
    "car=ElectricCar('tesla','model',2016)\n",
    "car.battery.get_range()\n",
    "car.battery.update_battery()\n",
    "car.battery.get_range()"
   ]
  },
  {
   "cell_type": "markdown",
   "metadata": {},
   "source": [
    "## 9.10 导入Restaurant类\n",
    "将最新的Restaurant类存储在一个模块中。在另一个文件中，导入Restaurant类，创建一个Restaurant实例，并调用Restaurant的一个方法，以确认import语句正确无误。"
   ]
  },
  {
   "cell_type": "markdown",
   "metadata": {},
   "source": [
    "参考unit9_restaurant.py和Restaurant.py"
   ]
  },
  {
   "cell_type": "markdown",
   "metadata": {},
   "source": [
    "## 9.11 导入Admin类\n",
    "以为完成练习9-8而做的工作为基础，将User、Privileges和Admin类存储在一个模块中，再创建一个文件，在其中创建一个Admin实例并对其调用方法show_privileges()，以确认一切都依然能够正常地运行。"
   ]
  },
  {
   "cell_type": "markdown",
   "metadata": {},
   "source": [
    "略"
   ]
  },
  {
   "cell_type": "markdown",
   "metadata": {},
   "source": [
    "## 9.12 多个模块\n",
    "将User类存储在一个模块中，并将Privileges和Admin类存储在另一个模块中。再创建一个文件，在其中创建一个Admin实例，并对其调用方法show_privileges()，以确认一切都依然能够正确地运行。\n"
   ]
  },
  {
   "cell_type": "markdown",
   "metadata": {},
   "source": [
    "略"
   ]
  },
  {
   "cell_type": "markdown",
   "metadata": {},
   "source": [
    "## 9.13 使用OrderDict\n",
    "在练习6-4中，你使用了一个标准字典来表示词汇表。请使用OrderDict类来重写这个程序，并确认输出的顺序在与你在字典中添加的键-值对的顺序一致。"
   ]
  },
  {
   "cell_type": "code",
   "execution_count": 11,
   "metadata": {},
   "outputs": [
    {
     "data": {
      "text/plain": [
       "{'a': 'b', 'c': 'C'}"
      ]
     },
     "execution_count": 11,
     "metadata": {},
     "output_type": "execute_result"
    }
   ],
   "source": [
    "class OrderDict():\n",
    "    def __init__(self,**dict):\n",
    "        self.dict={}\n",
    "        for key,value in dict.items():\n",
    "            self.dict[key]=value\n",
    "            \n",
    "dictionary=OrderDict(a='b',c='C')\n",
    "dictionary.dict"
   ]
  },
  {
   "cell_type": "markdown",
   "metadata": {},
   "source": [
    "## 9.14 骰子\n",
    "模块random包含以各种方式生成随机数的函数，其中的randint()返回一个位于指定范围内的整数，例如,下面代码返回一个1-6内的整数:\n",
    "___\n",
    "from random import randint\n",
    "x=randint(1,6)\n",
    "___\n",
    "请创建一个Die类，它包含一个名为sides的属性，该属性的默认值为6。编写一个名为roll_die()的方法，它打印位于1和骰子面数之间的随机数。创建一个6面的骰子，再掷10次。\n",
    "\n",
    "创建一个10面的骰子和一个20面的骰子，并将它们都掷10次。"
   ]
  },
  {
   "cell_type": "code",
   "execution_count": 6,
   "metadata": {},
   "outputs": [
    {
     "data": {
      "text/plain": [
       "[1, 3, 5, 4, 3, 1, 5, 3, 3, 6]"
      ]
     },
     "execution_count": 6,
     "metadata": {},
     "output_type": "execute_result"
    },
    {
     "data": {
      "text/plain": [
       "[8, 5, 10, 4, 7, 7, 9, 1, 9, 1]"
      ]
     },
     "execution_count": 6,
     "metadata": {},
     "output_type": "execute_result"
    },
    {
     "data": {
      "text/plain": [
       "[7, 16, 3, 13, 18, 13, 7, 7, 3, 11]"
      ]
     },
     "execution_count": 6,
     "metadata": {},
     "output_type": "execute_result"
    }
   ],
   "source": [
    "class Die():\n",
    "    def __init__(self,sides=6):\n",
    "        self.sides=sides\n",
    "    \n",
    "    def roll_die(self,times):\n",
    "        roll=[]\n",
    "        from random import randint\n",
    "        for i in range(times):\n",
    "            roll.append(randint(1,self.sides))\n",
    "        return roll\n",
    "        \n",
    "roll=Die()\n",
    "roll.roll_die(10)\n",
    "roll2=Die(10)\n",
    "roll2.roll_die(10)\n",
    "roll3=Die(20)\n",
    "roll3.roll_die(10)"
   ]
  }
 ],
 "metadata": {
  "kernelspec": {
   "display_name": "Python 3",
   "language": "python",
   "name": "python3"
  },
  "language_info": {
   "codemirror_mode": {
    "name": "ipython",
    "version": 3
   },
   "file_extension": ".py",
   "mimetype": "text/x-python",
   "name": "python",
   "nbconvert_exporter": "python",
   "pygments_lexer": "ipython3",
   "version": "3.7.3"
  }
 },
 "nbformat": 4,
 "nbformat_minor": 2
}
