{
 "cells": [
  {
   "cell_type": "markdown",
   "metadata": {},
   "source": [
    "## 7.1 汽车租赁\n",
    "编写一个程序，询问用户要租赁什么样的汽车，并打印一条消息，如'Let me see if I can find you a Subaru'。"
   ]
  },
  {
   "cell_type": "code",
   "execution_count": 2,
   "metadata": {},
   "outputs": [
    {
     "name": "stdout",
     "output_type": "stream",
     "text": [
      "What kind of car do you want to rent?tesla\n",
      "Let me see if I cana find you a Tesla\n"
     ]
    }
   ],
   "source": [
    "car=input('What kind of car do you want to rent?')\n",
    "print('Let me see if I cana find you a '+car.title())"
   ]
  },
  {
   "cell_type": "markdown",
   "metadata": {},
   "source": [
    "## 7.2 餐馆定位\n",
    "编写一个程序，询问用户有多少人用餐。如果超过8人，就打印一条消息，指出没有空桌；否则指出有空桌。"
   ]
  },
  {
   "cell_type": "code",
   "execution_count": 6,
   "metadata": {},
   "outputs": [
    {
     "name": "stdout",
     "output_type": "stream",
     "text": [
      "How many people need a meal? 7\n",
      "We can offer a table.\n"
     ]
    }
   ],
   "source": [
    "numbers=input('How many people need a meal? ')\n",
    "if int(numbers) >8:\n",
    "    print('Sorry,no table is available.')\n",
    "elif int(numbers)<=8:\n",
    "    print('We can offer a table.')"
   ]
  },
  {
   "cell_type": "markdown",
   "metadata": {},
   "source": [
    "## 7.3 10的整数倍\n",
    "让用户输入一个数字，并指出这个数字是否是10的整数倍。"
   ]
  },
  {
   "cell_type": "code",
   "execution_count": 7,
   "metadata": {},
   "outputs": [
    {
     "name": "stdout",
     "output_type": "stream",
     "text": [
      "Please input a number: 110\n",
      "This is an integer multiple of 10.\n"
     ]
    }
   ],
   "source": [
    "number=input('Please input a number: ')\n",
    "if int(number)%10 == 0:\n",
    "    print('This is an integer multiple of 10.')"
   ]
  },
  {
   "cell_type": "markdown",
   "metadata": {},
   "source": [
    "## 7.4 比萨配料\n",
    "\n",
    "编写一个循环，提示用户输入一些列的比萨配料，并在用户输入'quit'时结束循环。每当用户输入一种配料后，都打印一条消息，说我们会在比萨中添加这种配料。"
   ]
  },
  {
   "cell_type": "code",
   "execution_count": 2,
   "metadata": {},
   "outputs": [
    {
     "name": "stdout",
     "output_type": "stream",
     "text": [
      "please input pizza topping: mayonnaise\n",
      "We will add mayonnaise into pizza later.\n",
      "please input pizza topping: honey mustard\n",
      "We will add honey mustard into pizza later.\n",
      "please input pizza topping: quit\n"
     ]
    }
   ],
   "source": [
    "topping=[]\n",
    "while topping != 'quit':\n",
    "    topping=input('please input pizza topping: ')\n",
    "    if topping != 'quit':\n",
    "        print('We will add '+topping+' into pizza later.')"
   ]
  },
  {
   "cell_type": "markdown",
   "metadata": {},
   "source": [
    "## 7.5 电影票\n",
    "有家电影院根据关重的年龄收取不同票价：不到3岁的观众免费；3-12岁的观众为10美元；超过12岁的观众为15美元。请编写一个循环，在其中询问用户的年龄，并指出其票价。"
   ]
  },
  {
   "cell_type": "code",
   "execution_count": 8,
   "metadata": {},
   "outputs": [
    {
     "name": "stdout",
     "output_type": "stream",
     "text": [
      "how old are you? 12\n",
      "10 dollars.\n",
      "how old are you? 44\n",
      "15 dollars.\n",
      "how old are you? k\n"
     ]
    }
   ],
   "source": [
    "while True:\n",
    "    age=input('how old are you? ')\n",
    "    try:\n",
    "        if int(age) <3:\n",
    "            print('for free.')\n",
    "        elif int(age) <=12:\n",
    "            print('10 dollars.')\n",
    "        elif int(age) >12:\n",
    "            print('15 dollars.')\n",
    "    except Exception:\n",
    "        break"
   ]
  },
  {
   "cell_type": "markdown",
   "metadata": {},
   "source": [
    "## 7.6 三个出口\n",
    "以另一种方式完成7-4或7-5，在程序中采取如下所有做法。\n",
    "- 在while循环中使用条件测试来结束循环。\n",
    "- 使用变量active来控制循环结束的时机。\n",
    "- 使用break语句在用户输入'quit'时退出循环。"
   ]
  },
  {
   "cell_type": "code",
   "execution_count": 3,
   "metadata": {},
   "outputs": [
    {
     "name": "stdout",
     "output_type": "stream",
     "text": [
      "how old are you? 5\n",
      "10 dollars.\n",
      "how old are you? quit\n"
     ]
    }
   ],
   "source": [
    "age=[]\n",
    "while True:\n",
    "    age=input('how old are you? ')\n",
    "    if age == 'quit':\n",
    "        break\n",
    "    else:\n",
    "        if int(age) <3:\n",
    "            print('for free.')\n",
    "        elif int(age) <=12:\n",
    "            print('10 dollars.')\n",
    "        elif int(age) >12:\n",
    "            print('15 dollars.') "
   ]
  },
  {
   "cell_type": "code",
   "execution_count": 13,
   "metadata": {},
   "outputs": [
    {
     "name": "stdout",
     "output_type": "stream",
     "text": [
      "how old are you? 55\n",
      "15 dollars.\n",
      "how old are you? 3\n",
      "10 dollars.\n",
      "how old are you? quit\n"
     ]
    }
   ],
   "source": [
    "active = True\n",
    "while active:\n",
    "    age=input('how old are you? ')\n",
    "    if age != 'quit':\n",
    "        if int(age) <3:\n",
    "            print('for free.')\n",
    "        elif int(age) <=12:\n",
    "            print('10 dollars.')\n",
    "        elif int(age) >12:\n",
    "            print('15 dollars.')\n",
    "    else:\n",
    "        active = False"
   ]
  },
  {
   "cell_type": "code",
   "execution_count": 16,
   "metadata": {},
   "outputs": [
    {
     "name": "stdout",
     "output_type": "stream",
     "text": [
      "how old are you? 3\n",
      "10 dollars.\n",
      "how old are you? 59\n",
      "15 dollars.\n",
      "how old are you? 22\n",
      "15 dollars.\n",
      "how old are you? 2\n",
      "for free.\n",
      "how old are you? d\n"
     ]
    }
   ],
   "source": [
    "while True:\n",
    "    age=input('how old are you? ')\n",
    "    try:\n",
    "        if int(age) <3:\n",
    "            print('for free.')\n",
    "        elif int(age) <=12:\n",
    "            print('10 dollars.')\n",
    "        elif int(age) >12:\n",
    "            print('15 dollars.')\n",
    "    except Exception:\n",
    "        break"
   ]
  },
  {
   "cell_type": "markdown",
   "metadata": {},
   "source": [
    "## 7.7 无限循环\n",
    "略"
   ]
  },
  {
   "cell_type": "markdown",
   "metadata": {},
   "source": [
    "## 7.8 熟食店\n",
    "创建一个名为sandwich_orders的列表，在其中包含各种三明治的名字；再创建一个名为finished_sandwiches的空列表。遍历列表sandwich_orders，对于其中的每种三明治，都打印一条消息，如I made your tuna sandwich，并将其移到列表finished_sandwiches。所有三明治都制作好后，打印一条消息，将这些三明治列出来。"
   ]
  },
  {
   "cell_type": "code",
   "execution_count": 6,
   "metadata": {},
   "outputs": [
    {
     "name": "stdout",
     "output_type": "stream",
     "text": [
      "I made your Egg and ham sandwich.\n",
      "I made your Ham and cheese sandwich.\n",
      "I made your tuna sandwich.\n",
      "['Egg and ham sandwich', 'Ham and cheese sandwich', 'tuna sandwich']\n"
     ]
    }
   ],
   "source": [
    "sandwich_orders=['tuna sandwich','Ham and cheese sandwich','Egg and ham sandwich']\n",
    "finished_sandwiches=[]\n",
    "while sandwich_orders:\n",
    "    making_order=sandwich_orders.pop()\n",
    "    print('I made your '+making_order+'.')\n",
    "    finished_sandwiches.append(making_order)\n",
    "print(finished_sandwiches)"
   ]
  },
  {
   "cell_type": "markdown",
   "metadata": {},
   "source": [
    "## 7.9 五香烟熏牛肉(pastrami)卖完了\n",
    "使用为完成练习7-8而创建的列表sandwich_orders，并确保'pastrami'在其中至少出现了三次。在程序开头附近添加这样的代码：打印一条消息，指出熟食店的五香烟熏牛肉卖完了；再使用一个while循环将列表sandwich_orders中的'pastrami'都删除。确认最终的列表finished_sandwiches中不包含'pastrami'。"
   ]
  },
  {
   "cell_type": "code",
   "execution_count": 9,
   "metadata": {},
   "outputs": [
    {
     "name": "stdout",
     "output_type": "stream",
     "text": [
      "['pastrami', 'tuna sandwich', 'Ham and cheese sandwich', 'pastrami', 'Egg and ham sandwich', 'pastrami']\n",
      "['tuna sandwich', 'Ham and cheese sandwich', 'Egg and ham sandwich']\n",
      "We have sold out all pastrami.\n"
     ]
    }
   ],
   "source": [
    "sandwich_orders=['pastrami','tuna sandwich','Ham and cheese sandwich','pastrami','Egg and ham sandwich','pastrami']\n",
    "print(sandwich_orders)\n",
    "while 'pastrami' in sandwich_orders:\n",
    "    sandwich_orders.remove('pastrami')\n",
    "print(sandwich_orders)\n",
    "print('We have sold out all pastrami.')"
   ]
  },
  {
   "cell_type": "markdown",
   "metadata": {},
   "source": [
    "## 7.10 梦想的度假胜地\n",
    "编写一个程序，调查用户梦想的度假胜地。使用类似于'If you could visit one place in the world, where would you go?'的提示，并编写一个打印调查结果的代码块。"
   ]
  },
  {
   "cell_type": "code",
   "execution_count": 12,
   "metadata": {},
   "outputs": [
    {
     "name": "stdout",
     "output_type": "stream",
     "text": [
      "\n",
      "What's your name? Jim\n",
      "If you could visit one place in the world, where would you go? Paris\n",
      "Would you like to let another person respond?(yes/no)yes\n",
      "\n",
      "What's your name? Jessy\n",
      "If you could visit one place in the world, where would you go? London\n",
      "Would you like to let another person respond?(yes/no)no\n",
      "Jim would like to go Paris for a holiday.\n",
      "Jessy would like to go London for a holiday.\n"
     ]
    }
   ],
   "source": [
    "responses={}\n",
    "polling_active=True\n",
    "while polling_active:\n",
    "    name=input('\\nWhat\\'s your name? ')\n",
    "    response=input('If you could visit one place in the world, where would you go? ')\n",
    "    \n",
    "    responses[name]=response\n",
    "    repeat=input('Would you like to let another person respond?(yes/no)')\n",
    "    \n",
    "    if repeat == 'no':\n",
    "        polling_active=False\n",
    "    \n",
    "for name,response in responses.items():\n",
    "    print(name+' would like to go '+response+' for a holiday.')"
   ]
  }
 ],
 "metadata": {
  "kernelspec": {
   "display_name": "Python 3",
   "language": "python",
   "name": "python3"
  },
  "language_info": {
   "codemirror_mode": {
    "name": "ipython",
    "version": 3
   },
   "file_extension": ".py",
   "mimetype": "text/x-python",
   "name": "python",
   "nbconvert_exporter": "python",
   "pygments_lexer": "ipython3",
   "version": "3.7.3"
  }
 },
 "nbformat": 4,
 "nbformat_minor": 2
}
