{
 "cells": [
  {
   "cell_type": "code",
   "execution_count": 1,
   "metadata": {},
   "outputs": [],
   "source": [
    "from IPython.core.interactiveshell import InteractiveShell\n",
    "InteractiveShell.ast_node_interactivity='all'"
   ]
  },
  {
   "cell_type": "markdown",
   "metadata": {},
   "source": [
    "## 10.1 略"
   ]
  },
  {
   "cell_type": "markdown",
   "metadata": {},
   "source": [
    "## 10.2 C语言学习笔记\n",
    "可使用方法replace()将字符串中的特定单词都替换为另一个单词。下面是一个简单的示例，演示了如何将句子中的'dog'替换为'cat'：\n",
    "___\n",
    "message='I really like dogs.'\n",
    "message.replace('dog','cat')\n",
    "___\n",
    "读取你刚创建的文件learning_python.txt中的每一行，将其中的Python都替换为另一门语言的名称，如C。将修改后的各行都打印到屏幕上。"
   ]
  },
  {
   "cell_type": "markdown",
   "metadata": {},
   "source": [
    "略"
   ]
  },
  {
   "cell_type": "markdown",
   "metadata": {},
   "source": [
    "## 10.3 访客\n",
    "编写一个程序，提示用户输入其名字；用户做出响应后，将其名字写入到文件guest.txt中。"
   ]
  },
  {
   "cell_type": "code",
   "execution_count": 3,
   "metadata": {},
   "outputs": [
    {
     "name": "stdout",
     "output_type": "stream",
     "text": [
      "please input your name: admin\n"
     ]
    },
    {
     "data": {
      "text/plain": [
       "20"
      ]
     },
     "execution_count": 3,
     "metadata": {},
     "output_type": "execute_result"
    }
   ],
   "source": [
    "filename='guest.txt'\n",
    "username=input('please input your name: ')\n",
    "with open(filename,'a') as f:\n",
    "    f.write('username is: '+username+'.\\n')"
   ]
  },
  {
   "cell_type": "markdown",
   "metadata": {},
   "source": [
    "## 10.4 访客名单\n",
    "编写一个while循环，提示用户输入其名字。用户输入其名字后，在屏幕上打印一句问候语，并将一条访问记录添加到guest_book.txt文件中，确保这个文件中的每条记录都独占一行。"
   ]
  },
  {
   "cell_type": "code",
   "execution_count": 2,
   "metadata": {},
   "outputs": [
    {
     "name": "stdout",
     "output_type": "stream",
     "text": [
      "please input your name: jim\n",
      "Welcome, Jim!\n",
      "please input your name: q\n"
     ]
    }
   ],
   "source": [
    "filename='guest_book.txt'\n",
    "\n",
    "with open(filename,'a') as f:\n",
    "    while True:\n",
    "        username=input('please input your name: ')\n",
    "        if username == 'q':\n",
    "            break\n",
    "        else:\n",
    "            print('Welcome, '+username.title()+'!')\n",
    "            f.write(username+' has come.\\n')"
   ]
  },
  {
   "cell_type": "markdown",
   "metadata": {},
   "source": [
    "## 10.5 关于编程的调查\n",
    "编写一个while循环，询问用户为何喜欢编程。每当用户输入一个原因后，都将其添加到一个存储所有原因的文件中。"
   ]
  },
  {
   "cell_type": "code",
   "execution_count": 4,
   "metadata": {},
   "outputs": [
    {
     "name": "stdout",
     "output_type": "stream",
     "text": [
      "\n",
      "Why do you love programming? interesting\n"
     ]
    },
    {
     "data": {
      "text/plain": [
       "12"
      ]
     },
     "execution_count": 4,
     "metadata": {},
     "output_type": "execute_result"
    },
    {
     "name": "stdout",
     "output_type": "stream",
     "text": [
      "\n",
      "Why do you love programming? useful\n"
     ]
    },
    {
     "data": {
      "text/plain": [
       "7"
      ]
     },
     "execution_count": 4,
     "metadata": {},
     "output_type": "execute_result"
    },
    {
     "name": "stdout",
     "output_type": "stream",
     "text": [
      "\n",
      "Why do you love programming? q\n"
     ]
    }
   ],
   "source": [
    "filename='reason.txt'\n",
    "with open(filename,'a') as f:\n",
    "    while True:\n",
    "        reason=input('\\nWhy do you love programming? ')\n",
    "        if reason == 'q':\n",
    "            break\n",
    "        else:\n",
    "            f.write(reason+'\\t')"
   ]
  },
  {
   "cell_type": "code",
   "execution_count": 5,
   "metadata": {},
   "outputs": [],
   "source": [
    "f.close()"
   ]
  },
  {
   "cell_type": "markdown",
   "metadata": {},
   "source": [
    "## 10.6 加法运算\n",
    "提示用户提供数值输入时，常出现一个问题是，用户提供的是文本，而不是数字。在这种情况下，当你尝试将输入转化为整数时，将引发ValueError异常。编写一个程序，提示用户输入两个数字，再将它们相加并打印结果。在用户输入的任何一个值不是数字时都捕获ValueError异常，并打印一条友好的错误消息。对你编写的程序进行测试：先输入两个数字，再输入一些文本而不是数字。"
   ]
  },
  {
   "cell_type": "code",
   "execution_count": 9,
   "metadata": {},
   "outputs": [
    {
     "name": "stdout",
     "output_type": "stream",
     "text": [
      "please input two numbers: \n",
      "r\n",
      "4\n",
      "The value you have input was not int!\n"
     ]
    }
   ],
   "source": [
    "print('please input two numbers: ')\n",
    "a=input()\n",
    "b=input()\n",
    "try:\n",
    "    print(int(a)+int(b))\n",
    "except ValueError:\n",
    "    print('The value you have input was not int!')"
   ]
  },
  {
   "cell_type": "markdown",
   "metadata": {},
   "source": [
    "## 10.7 加法计算器\n",
    "将你为完成练习10-6而编写的代码放在一个while循环中，让用户犯错(输入的是文本而不是数字)，后能继续输入数字。"
   ]
  },
  {
   "cell_type": "code",
   "execution_count": 4,
   "metadata": {},
   "outputs": [
    {
     "name": "stdout",
     "output_type": "stream",
     "text": [
      "please input two numbers: \n",
      "s\n",
      "2\n",
      "The value you have input was not int!\n",
      "\n",
      "please input two numbers: \n",
      "2\n",
      "3\n",
      "5\n"
     ]
    }
   ],
   "source": [
    "while True:\n",
    "    print('please input two numbers: ')\n",
    "    a=input()\n",
    "    b=input()\n",
    "    try:\n",
    "        print(int(a)+int(b))\n",
    "        break\n",
    "    except ValueError:\n",
    "        print('The value you have input was not int!\\n')"
   ]
  },
  {
   "cell_type": "markdown",
   "metadata": {},
   "source": [
    "## 10.8 猫和狗\n",
    "创建两个文件cats.txt和dogs.txt，在第一个文件中至少储存三只猫的名字，在第二个文件中至少储存三条狗的名字。编写一个程序，尝试读取这些文件，并将其内容打印到屏幕上，将这代码放在一个try-except代码块中，以便在文件不存在使捕获FileNotFound错误，并打印一条友好的消息。将其中一个文件移到另外一个地方，并确认except代码块中的代码将正确地执行。"
   ]
  },
  {
   "cell_type": "markdown",
   "metadata": {},
   "source": [
    "略"
   ]
  },
  {
   "cell_type": "markdown",
   "metadata": {},
   "source": [
    "## 10.9 沉默的猫和狗\n",
    "修改你在练习10-8中编写的except代码块，让程序在文件不存在时一言不发。"
   ]
  },
  {
   "cell_type": "markdown",
   "metadata": {},
   "source": [
    "略"
   ]
  },
  {
   "cell_type": "markdown",
   "metadata": {},
   "source": [
    "## 10.10 常见单词\n",
    "访问项目Gutenberg (http://gutenberg.org) ，并找一些你想分析的图书。下载这些作品的文本文件或将浏览器中原始文件复制到文本文件中。\n",
    "\n",
    "你可以使用方法count()来确定特定的单词或短语在字符串中出现了多少次。例如，下面的代码计算'row'在一个字符串中出现了多少次：\n",
    "___\n",
    "line='Row,row,row your boat'\n",
    "\n",
    "line.count('row')\n",
    "\n",
    "line.lower().count('row')\n",
    "___\n",
    "请注意，通过使用lower()将字符串转化为小写，可捕捉要查找的单词出现的所有次数，而不管其他大小写格式如何。\n",
    "\n",
    "编写一个程序，它读取你在项目Gutenberg中获取的文件，并计算其单词'the'在每个文件中分别出现了多少次。"
   ]
  },
  {
   "cell_type": "markdown",
   "metadata": {},
   "source": [
    "略"
   ]
  },
  {
   "cell_type": "markdown",
   "metadata": {},
   "source": [
    "## 10.11 喜欢的数字\n",
    "编写一个程序，提示用户输入他喜欢的数字，并使用json.dump()将这个数字存储到文件中。再编写一个程序，从文件中读取这个值，并打印消息'I know your favorite number! It's_____.'"
   ]
  },
  {
   "cell_type": "code",
   "execution_count": 17,
   "metadata": {},
   "outputs": [
    {
     "name": "stdout",
     "output_type": "stream",
     "text": [
      "please input your favorite number: 6\n",
      "I know your favorite number! It's 6\n"
     ]
    }
   ],
   "source": [
    "import json\n",
    "def favorite_number():\n",
    "    number=input('please input your favorite number: ')\n",
    "    with open('favorite_number.txt','w') as f:\n",
    "        json.dump(number,f)\n",
    "        f.close()\n",
    "\n",
    "def show_favorite_number():\n",
    "    filename='favorite_number.txt'\n",
    "    with open(filename) as g:\n",
    "        number=json.load(g)\n",
    "    print('I know your favorite number! It\\'s '+str(number))\n",
    "    \n",
    "favorite_number()\n",
    "show_favorite_number()"
   ]
  },
  {
   "cell_type": "markdown",
   "metadata": {},
   "source": [
    "## 10.12 记住喜欢的数字\n",
    "将练习10-11中两个程序合而为一。如果储存了用户喜欢的数字，就向用户显示它，否则提示用户输入他喜欢的数字并将其存到文件中。运行这个程序两次，看看它是否像预期那样工作。"
   ]
  },
  {
   "cell_type": "code",
   "execution_count": 25,
   "metadata": {},
   "outputs": [
    {
     "name": "stdout",
     "output_type": "stream",
     "text": [
      "please input your favorite number: 6\n",
      "I know your favorite number! It's 6\n"
     ]
    }
   ],
   "source": [
    "import json\n",
    "def favorite_number():\n",
    "    filename='favorite_number.txt'\n",
    "    try:\n",
    "        with open(filename) as g:\n",
    "            number=json.load(g)\n",
    "        print('I know your favorite number! It\\'s '+str(number))\n",
    "    except FileNotFoundError:\n",
    "        number=input('please input your favorite number: ')\n",
    "        with open(filename,'w') as f:\n",
    "            json.dump(number,f)\n",
    "            f.close()\n",
    "            print('I know your favorite number! It\\'s '+str(number))\n",
    "    \n",
    "favorite_number()"
   ]
  },
  {
   "cell_type": "code",
   "execution_count": 27,
   "metadata": {},
   "outputs": [
    {
     "name": "stdout",
     "output_type": "stream",
     "text": [
      "please input your favorite number: 6\n",
      "I know your favorite number! It's 6\n"
     ]
    }
   ],
   "source": [
    "import json\n",
    "\n",
    "def favorite_number():\n",
    "    filename='favorite_number.txt'\n",
    "    try:\n",
    "        with open(filename) as g:\n",
    "            number=json.load(g)\n",
    "        print('I know your favorite number! It\\'s '+str(number))\n",
    "    except Exception:\n",
    "        number=input('please input your favorite number: ')\n",
    "        with open(filename,'w') as f:\n",
    "            json.dump(number,f)\n",
    "            f.close()\n",
    "            print('I know your favorite number! It\\'s '+str(number))\n",
    "    \n",
    "favorite_number()"
   ]
  },
  {
   "cell_type": "markdown",
   "metadata": {},
   "source": [
    "## 10.13 验证用户\n",
    "最后一个remember_me.py版本假设用户要么已输入其用户名，要么是首次运行该程序。我们应该修改这个程序，以应对这样的情形：当前和最后一次运行该程序的用户并非同一个人。\n",
    "\n",
    "为此，在greet_user()中打印欢迎用户回来的消息前，先询问他用户名是否是对的。如果不对，就调用get_new_username()让用户输入正确的用户名。"
   ]
  },
  {
   "cell_type": "code",
   "execution_count": 32,
   "metadata": {},
   "outputs": [
    {
     "name": "stdout",
     "output_type": "stream",
     "text": [
      "jim\n",
      "Is that your name?(yes/no) no\n",
      "What is your name! karen\n",
      "We'll remember you when you come back, Karen!\n"
     ]
    }
   ],
   "source": [
    "import json\n",
    "\n",
    "def get_stored_username():\n",
    "    filename='username.json'\n",
    "    try:\n",
    "        with open(filename) as f_obj:\n",
    "            username=json.load(f_obj)\n",
    "    except FileNotFoundError:\n",
    "        return None\n",
    "    else:\n",
    "        return username\n",
    "\n",
    "def get_new_username():\n",
    "    username=input('What is your name! ')\n",
    "    filename='username.json'\n",
    "    with open(filename,'w') as f_obj:\n",
    "        json.dump(username,f_obj)\n",
    "    return username\n",
    "\n",
    "def greet_user():\n",
    "    username=get_stored_username()\n",
    "    print(username)\n",
    "    if username:\n",
    "        judge=input('Is that your name?(yes/no) ')\n",
    "        if judge == 'yes':\n",
    "            print('Welcome back, '+username.title()+'!')\n",
    "        else:\n",
    "            username=get_new_username()\n",
    "            print('We\\'ll remember you when you come back, '+username.title()+'!')\n",
    "    else:\n",
    "        username=get_new_username()\n",
    "        print('We\\'ll remember you when you come back, '+username.title()+'!')\n",
    "        \n",
    "greet_user()"
   ]
  }
 ],
 "metadata": {
  "kernelspec": {
   "display_name": "Python 3",
   "language": "python",
   "name": "python3"
  },
  "language_info": {
   "codemirror_mode": {
    "name": "ipython",
    "version": 3
   },
   "file_extension": ".py",
   "mimetype": "text/x-python",
   "name": "python",
   "nbconvert_exporter": "python",
   "pygments_lexer": "ipython3",
   "version": "3.7.3"
  }
 },
 "nbformat": 4,
 "nbformat_minor": 2
}
