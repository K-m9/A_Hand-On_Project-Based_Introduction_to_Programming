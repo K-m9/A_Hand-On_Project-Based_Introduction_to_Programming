{
 "cells": [
  {
   "cell_type": "code",
   "execution_count": 1,
   "metadata": {},
   "outputs": [],
   "source": [
    "from IPython.core.interactiveshell import InteractiveShell\n",
    "InteractiveShell.ast_node_interactivity='all'"
   ]
  },
  {
   "cell_type": "markdown",
   "metadata": {},
   "source": [
    "## 11.1 城市和国家\n",
    "编写一个函数，它接受两个形参：一个城市名和一个国家名。这个函数返回一个格式为City，Country的字符串，如Santiago，Chile。将这个函数存储在一个名为city_functions.py的模块中。\n",
    "\n",
    "创建一个名为test_cities.py的程序，对刚编写的函数进行测试(别忘了，你需要导入模unittest以及要测试的函数)。编写一个名为test_city_country()的方法，核实使用类似于'santiago'和'chile'这样的值来调用前述函数时，得到的字符串是正确的。运行test_cities.py，确认测试test_city_country()通过了。"
   ]
  },
  {
   "cell_type": "markdown",
   "metadata": {},
   "source": [
    "参考test_cities.py和city_function.py\n",
    "\n",
    "unittest对无返回值函数的测试：https://blog.csdn.net/python012/article/details/79903641"
   ]
  },
  {
   "cell_type": "markdown",
   "metadata": {},
   "source": [
    "## 11.2 人口数量\n",
    "修改前面的函数，使其包含第三个必不可少的形参population，并返回一个格式为Ciy，Country - population xxx的字符串，如Santiago，Chile - population 5000000 。运行test_cities.py，确认测试test_city_country()未通过。\n",
    "\n",
    "修改上述函数，将形参population设置为可选的。再次运行test_cities.py，确认测试test_city_country()又通过了。\n",
    "\n",
    "再编写一个名为test_city_country_population()的测试，核实可以使用类似于'santigo'，'chile'和'population=5000000' 这样的值来调用这个函数。再次运行test_cities.py，确认测试test_city_country_population()通过了。"
   ]
  },
  {
   "cell_type": "markdown",
   "metadata": {},
   "source": [
    "参考 city_function.py 和 test_cities.py"
   ]
  },
  {
   "cell_type": "markdown",
   "metadata": {},
   "source": [
    "## 11.3 雇员\n",
    "编写一个名为Employee的类，其方法__init__()接受名、姓和年薪，并将它们都存储在属性中。编写一个名为give_raise()的方法，他默认将年薪增加5000美元，但也能够接受其他的年薪增加量。\n",
    "\n",
    "为Employee编写一个测试用例，其中包含两个测试方法：test_give_default_raise()和test_give_custom_raise()。使用方法setUp()，以免在每个测试方法中都创建新的雇员实例。运行这个测试用例，确认两个测试都通过了。"
   ]
  },
  {
   "cell_type": "markdown",
   "metadata": {},
   "source": [
    "参考employee.py和test_give_raise.py"
   ]
  }
 ],
 "metadata": {
  "kernelspec": {
   "display_name": "Python 3",
   "language": "python",
   "name": "python3"
  },
  "language_info": {
   "codemirror_mode": {
    "name": "ipython",
    "version": 3
   },
   "file_extension": ".py",
   "mimetype": "text/x-python",
   "name": "python",
   "nbconvert_exporter": "python",
   "pygments_lexer": "ipython3",
   "version": "3.7.3"
  }
 },
 "nbformat": 4,
 "nbformat_minor": 2
}
