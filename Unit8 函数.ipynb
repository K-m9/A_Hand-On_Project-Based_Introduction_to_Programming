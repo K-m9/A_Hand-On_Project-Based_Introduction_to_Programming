{
 "cells": [
  {
   "cell_type": "code",
   "execution_count": 3,
   "metadata": {},
   "outputs": [],
   "source": [
    "from IPython.core.interactiveshell import InteractiveShell\n",
    "InteractiveShell.ast_node_interactivity='all'"
   ]
  },
  {
   "cell_type": "markdown",
   "metadata": {},
   "source": [
    "## 8.1 消息\n",
    "编写一个名为display_message()的函数，它打印一个句子，指出你在本章学的是什么。调用这个函数，确认显示的消息正确无误。"
   ]
  },
  {
   "cell_type": "code",
   "execution_count": 2,
   "metadata": {},
   "outputs": [
    {
     "name": "stdout",
     "output_type": "stream",
     "text": [
      "I have learned to write a function.\n"
     ]
    }
   ],
   "source": [
    "def display_message():\n",
    "    print('I have learned to write a function.')\n",
    "display_message()"
   ]
  },
  {
   "cell_type": "markdown",
   "metadata": {},
   "source": [
    "## 8.2 喜欢的图书\n",
    "编写一个名为favoite_book()的函数，其中包含一个名为title的形参。这个函数打印一条消息，如One of my favorite books is Alice in Wonderland。调用这个函数，并将一本图书的名称作为实参传给它。"
   ]
  },
  {
   "cell_type": "code",
   "execution_count": 4,
   "metadata": {},
   "outputs": [
    {
     "name": "stdout",
     "output_type": "stream",
     "text": [
      "One of my favorite books is Three-Body.\n"
     ]
    }
   ],
   "source": [
    "def favorite_book(title):\n",
    "    print('One of my favorite books is '+title.title()+'.')\n",
    "favorite_book('three-Body')"
   ]
  },
  {
   "cell_type": "markdown",
   "metadata": {},
   "source": [
    "## 8.3 T恤\n",
    "编写一个名为make_shirt()的函数，他接受一个尺码以及要印到T恤上的字样。这个函数应打印一个句子，概要的说明T恤的尺码和字样。\n",
    "使用位置实参调用这个函数来制作一件T恤；再使用关键字实参来调用这个函数。"
   ]
  },
  {
   "cell_type": "code",
   "execution_count": 15,
   "metadata": {},
   "outputs": [
    {
     "name": "stdout",
     "output_type": "stream",
     "text": [
      "The size of the T-shirt is: small\n",
      "words is asked to be printed on the T-shirt: Yes OK.\n",
      " \n"
     ]
    }
   ],
   "source": [
    "def make_shirt(size,words):\n",
    "    print('The size of the T-shirt is: '+size)\n",
    "    print('words is asked to be printed on the T-shirt: '+words+'.\\n ')\n",
    "make_shirt('small','Yes OK')"
   ]
  },
  {
   "cell_type": "markdown",
   "metadata": {},
   "source": [
    "## 8.4 大学T恤\n",
    "修改函数make_shirt()，使其在默认情况下制作一件印有字样“I love Python”的大号T恤。调用这个函数来制作如下T恤：一件印有默认字样的大号T恤、一件印有默认字样的中号T恤和一件印有其他字样的T恤（尺码无关紧要）。"
   ]
  },
  {
   "cell_type": "code",
   "execution_count": 17,
   "metadata": {},
   "outputs": [
    {
     "name": "stdout",
     "output_type": "stream",
     "text": [
      "The size of the T-shirt is: big\n",
      "words is asked to be printed on the T-shirt: I love Python.\n",
      "\n",
      "The size of the T-shirt is: medium\n",
      "words is asked to be printed on the T-shirt: I love Python.\n",
      "\n",
      "The size of the T-shirt is: small\n",
      "words is asked to be printed on the T-shirt: Yes OK.\n",
      "\n"
     ]
    }
   ],
   "source": [
    "def make_shirt(size,words='I love Python'):\n",
    "    print('The size of the T-shirt is: '+size)\n",
    "    print('words is asked to be printed on the T-shirt: '+words+'.\\n')\n",
    "make_shirt('big')\n",
    "make_shirt('medium')\n",
    "make_shirt('small','Yes OK')"
   ]
  },
  {
   "cell_type": "markdown",
   "metadata": {},
   "source": [
    "## 8.5 城市\n",
    "编写一个名为的函数describe_city()的函数，它接受一座城市的名字以及该城市所属的国家。这个函数应打印一个简单的句子，如Reykjavik is in Iceland。给用于存储国家的形参指定默认值。为三座不同的城市调用这个函数，且其中至少有一座城市不属于默认国家。"
   ]
  },
  {
   "cell_type": "code",
   "execution_count": 20,
   "metadata": {},
   "outputs": [
    {
     "name": "stdout",
     "output_type": "stream",
     "text": [
      "Guangzhou is in China.\n",
      "\n",
      "Reykjavik is in Iceland.\n",
      "\n",
      "Glasgow is in Britain.\n",
      "\n"
     ]
    }
   ],
   "source": [
    "def describe_city(name,country='china'):\n",
    "    print(name.title()+' is in '+country.title()+'.\\n')\n",
    "describe_city('guangzhou')\n",
    "describe_city('Reykjavik','iceland')\n",
    "describe_city('glasgow','britain')"
   ]
  },
  {
   "cell_type": "markdown",
   "metadata": {},
   "source": [
    "## 8.6 城市名\n",
    "编写一个名为city_country()的函数，他接受城市的名称以及其所属的国家.这个函数应返回一个格式类似于下面这样的字符串:\n",
    "___\n",
    "\"Santiago\",\"Chile\"\n",
    "___\n",
    "至少使用三个城市国家调用这个函数，并打印它返回的值。"
   ]
  },
  {
   "cell_type": "code",
   "execution_count": 24,
   "metadata": {},
   "outputs": [
    {
     "data": {
      "text/plain": [
       "'glasgow,britain'"
      ]
     },
     "execution_count": 24,
     "metadata": {},
     "output_type": "execute_result"
    },
    {
     "data": {
      "text/plain": [
       "'Reykjavik,iceland'"
      ]
     },
     "execution_count": 24,
     "metadata": {},
     "output_type": "execute_result"
    }
   ],
   "source": [
    "def city_country(name,country):\n",
    "    return name+','+country\n",
    "city_country('glasgow','britain')\n",
    "city_country('Reykjavik','iceland')"
   ]
  },
  {
   "cell_type": "markdown",
   "metadata": {},
   "source": [
    "## 8.7 专辑\n",
    "编写一个名为的make_album()的函数，它创建一个描述音乐专辑的字典。这个函数应接受歌手的名字和专辑名，并返回一个包含这两项信息的字典。使用这个函数创建三个表示不同专辑的字典，并打印每个返回的值，以核实字典正确的存储了专辑的信息。\n",
    "给函数make_album()添加一个可选形参，以便能够存储专辑包含的歌曲数。如果调用这个函数时指定了歌曲数，就将这个值添加到表示专辑的字典中。调用这个函数，并至少在一次调用中指定专辑包含的歌曲数。"
   ]
  },
  {
   "cell_type": "code",
   "execution_count": 16,
   "metadata": {},
   "outputs": [
    {
     "data": {
      "text/plain": [
       "{'singer': 'Taylor Swift',\n",
       " 'album_name': ['Love story', 'Folklore'],\n",
       " 'num_songs': 2}"
      ]
     },
     "execution_count": 16,
     "metadata": {},
     "output_type": "execute_result"
    },
    {
     "data": {
      "text/plain": [
       "{'singer': 'Taylor Swift', 'album_name': 'Love story'}"
      ]
     },
     "execution_count": 16,
     "metadata": {},
     "output_type": "execute_result"
    }
   ],
   "source": [
    "def make_album(singer,name,number=''):\n",
    "    if number:\n",
    "        album={'singer':singer,'album_name':name,'num_songs':number}\n",
    "    else:\n",
    "        album={'singer':singer,'album_name':name}\n",
    "    return album\n",
    "make_album('Taylor Swift',['Love story','Folklore'],2)\n",
    "make_album('Taylor Swift','Love story')"
   ]
  },
  {
   "cell_type": "markdown",
   "metadata": {},
   "source": [
    "## 8.8 用户的专辑\n",
    "再为完成练习8-7编写的程序中，编写一个while循环，让用户输入一个专辑的歌手和名称。获取这些信息后，使用他们来调用函数make_album()，并将创建的字典打印出来。在这个while循环中，务必要提供退出途径。"
   ]
  },
  {
   "cell_type": "code",
   "execution_count": 17,
   "metadata": {},
   "outputs": [
    {
     "name": "stdout",
     "output_type": "stream",
     "text": [
      "\n",
      "Please tell me the name and the singer of an album: \n",
      "(enter \"q\" at any time to quit)\n",
      "album name: folklore\n",
      "singer: taylor\n",
      "number: \n"
     ]
    },
    {
     "data": {
      "text/plain": [
       "{'singer': 'taylor', 'album_name': 'folklore'}"
      ]
     },
     "execution_count": 17,
     "metadata": {},
     "output_type": "execute_result"
    },
    {
     "name": "stdout",
     "output_type": "stream",
     "text": [
      "\n",
      "Please tell me the name and the singer of an album: \n",
      "(enter \"q\" at any time to quit)\n",
      "album name: folklore\n",
      "singer: taylor\n",
      "number: 2\n"
     ]
    },
    {
     "data": {
      "text/plain": [
       "{'singer': 'taylor', 'album_name': 'folklore', 'num_songs': '2'}"
      ]
     },
     "execution_count": 17,
     "metadata": {},
     "output_type": "execute_result"
    },
    {
     "name": "stdout",
     "output_type": "stream",
     "text": [
      "\n",
      "Please tell me the name and the singer of an album: \n",
      "(enter \"q\" at any time to quit)\n",
      "album name: q\n"
     ]
    }
   ],
   "source": [
    "while True:\n",
    "    print('\\nPlease tell me the name and the singer of an album: ')\n",
    "    print('(enter \"q\" at any time to quit)')\n",
    "    \n",
    "    name=input('album name: ')\n",
    "    if name == 'q':\n",
    "        break\n",
    "    singer=input('singer: ')\n",
    "    if singer == 'q':\n",
    "        break\n",
    "    number=input('number: ')\n",
    "    make_album(singer,name,number)\n"
   ]
  },
  {
   "cell_type": "markdown",
   "metadata": {},
   "source": [
    "## 8.9 魔术师\n",
    "创建一个包含魔术师名字的列表，并将其传递给一个名为show_magicians()的函数，这个函数打印列表中每个魔术师的名字。"
   ]
  },
  {
   "cell_type": "code",
   "execution_count": 7,
   "metadata": {},
   "outputs": [
    {
     "data": {
      "text/plain": [
       "['a', 'b', 'c']"
      ]
     },
     "execution_count": 7,
     "metadata": {},
     "output_type": "execute_result"
    }
   ],
   "source": [
    "magicians=['a','b','c']\n",
    "def show_magicians(magicians):\n",
    "    return magicians\n",
    "show_magicians(magicians)"
   ]
  },
  {
   "cell_type": "markdown",
   "metadata": {},
   "source": [
    "## 8.10 了不起的魔术师\n",
    "再为你完成练习8-9而编写的程序中，编写一个名为make_great()的函数，对魔术师列表进行修改，在每个魔术师的名字中都加入字样\"the Great\"。调用函数show_magicians()，确认魔术师列表确实变了。"
   ]
  },
  {
   "cell_type": "code",
   "execution_count": 12,
   "metadata": {},
   "outputs": [
    {
     "data": {
      "text/plain": [
       "['the Great c', 'the Great b', 'the Great a']"
      ]
     },
     "execution_count": 12,
     "metadata": {},
     "output_type": "execute_result"
    },
    {
     "data": {
      "text/plain": [
       "[]"
      ]
     },
     "execution_count": 12,
     "metadata": {},
     "output_type": "execute_result"
    }
   ],
   "source": [
    "magicians=['a','b','c']\n",
    "def make_great(mag):\n",
    "    new_list=[]\n",
    "    while mag:\n",
    "        mag_copy=mag.pop()\n",
    "        new_list.append('the Great '+mag_copy)\n",
    "    return new_list\n",
    "    \n",
    "def show_magicians(magicians):\n",
    "    return magicians\n",
    "\n",
    "show_magicians(make_great(magicians))\n",
    "magicians"
   ]
  },
  {
   "cell_type": "code",
   "execution_count": 15,
   "metadata": {},
   "outputs": [
    {
     "data": {
      "text/plain": [
       "['a', 'b', 'c']"
      ]
     },
     "execution_count": 15,
     "metadata": {},
     "output_type": "execute_result"
    },
    {
     "data": {
      "text/plain": [
       "['the Great a', 'the Great b', 'the Great c']"
      ]
     },
     "execution_count": 15,
     "metadata": {},
     "output_type": "execute_result"
    },
    {
     "data": {
      "text/plain": [
       "['the Great a', 'the Great b', 'the Great c']"
      ]
     },
     "execution_count": 15,
     "metadata": {},
     "output_type": "execute_result"
    }
   ],
   "source": [
    "magicians=['a','b','c']\n",
    "magicians\n",
    "def make_great(mag):\n",
    "    i=0\n",
    "    while i<=len(mag)-1:\n",
    "        mag[i]='the Great '+mag[i]\n",
    "        i+=1\n",
    "    return mag\n",
    "    \n",
    "def show_magicians(magicians):\n",
    "    return magicians\n",
    "\n",
    "show_magicians(make_great(magicians))\n",
    "magicians"
   ]
  },
  {
   "cell_type": "markdown",
   "metadata": {},
   "source": [
    "## 8.11 不变的魔术师\n",
    "修改你为完成练习8-10而编写的程序，在调用函数make_great()时，向他传递魔术师列表的副本。由于不想修改原始列表，请返回修改后的列表，并将其存储到另一个列表中。分别使用这两个列表来调用show_magicians()，确认一个列表包含的是原来的魔术师名字，而另外一个列表包含的是添加了字样\"the Great\"的魔术师名字。"
   ]
  },
  {
   "cell_type": "code",
   "execution_count": 13,
   "metadata": {},
   "outputs": [
    {
     "data": {
      "text/plain": [
       "['the Great c', 'the Great b', 'the Great a']"
      ]
     },
     "execution_count": 13,
     "metadata": {},
     "output_type": "execute_result"
    },
    {
     "data": {
      "text/plain": [
       "['a', 'b', 'c']"
      ]
     },
     "execution_count": 13,
     "metadata": {},
     "output_type": "execute_result"
    }
   ],
   "source": [
    "magicians=['a','b','c']\n",
    "def make_great(mag):\n",
    "    new_list=[]\n",
    "    while mag:\n",
    "        mag_copy=mag.pop()\n",
    "        new_list.append('the Great '+mag_copy)\n",
    "    return new_list\n",
    "    \n",
    "def show_magicians(magicians):\n",
    "    return magicians\n",
    "\n",
    "show_magicians(make_great(magicians[:]))\n",
    "magicians"
   ]
  },
  {
   "cell_type": "markdown",
   "metadata": {},
   "source": [
    "## 8.12 三明治\n",
    "编写一个函数，它接受顾客要在三明治中添加一系列食材。这个函数只有一个形参（它收集函数调用中提供的所有食材），并打印一条消息，对顾客点的三明治进行概述，调用这个函数三次，每次都提供不同数量的实参。"
   ]
  },
  {
   "cell_type": "code",
   "execution_count": 19,
   "metadata": {},
   "outputs": [
    {
     "name": "stdout",
     "output_type": "stream",
     "text": [
      "\n",
      "Making a pizza with following toppings:\n",
      "- pepperoni\n",
      "\n",
      "Making a pizza with following toppings:\n",
      "- mushrooms\n",
      "- cheese\n",
      "- green peppers\n"
     ]
    }
   ],
   "source": [
    "def sandwich_toppings(*toppings):\n",
    "    \"\"\"概述要制作的披萨\"\"\"\n",
    "    print('\\nMaking a pizza with following toppings:')\n",
    "    for topping in toppings:\n",
    "        print('- '+topping)\n",
    "\n",
    "sandwich_toppings('pepperoni')\n",
    "sandwich_toppings('mushrooms','cheese','green peppers')"
   ]
  },
  {
   "cell_type": "markdown",
   "metadata": {},
   "source": [
    "## 8.13 用户简介\n",
    "略"
   ]
  },
  {
   "cell_type": "markdown",
   "metadata": {},
   "source": [
    "## 8.14 汽车\n",
    "编写一个函数，将一辆汽车的信息存储在一个字典中，这个函数总是接受制造商和型号，还接受任意数量的关键字实参。这样调用这个函数：提供必不可少的信息，以及两个名称-值对，如颜色和选装配件。这个函数，必须能够向下面那样进行调用：\n",
    "___\n",
    "car=make_car('subaru','outback',color='blue',tow_package=True)\n",
    "___\n",
    "打印返回的字典，确认正确的处理了所有的信息。"
   ]
  },
  {
   "cell_type": "code",
   "execution_count": 3,
   "metadata": {},
   "outputs": [
    {
     "name": "stdout",
     "output_type": "stream",
     "text": [
      "{'producer': 'subaru', 'model': 'outback', 'color': 'blue', 'tow_package': True}\n"
     ]
    }
   ],
   "source": [
    "def car_info(producer,model,**info):\n",
    "    car_info={}\n",
    "    car_info['producer']=producer\n",
    "    car_info['model']=model\n",
    "    for key,value in info.items():\n",
    "        car_info[key]=value\n",
    "    return car_info\n",
    "\n",
    "car=car_info('subaru','outback',color='blue',tow_package=True)\n",
    "print(car)"
   ]
  },
  {
   "cell_type": "markdown",
   "metadata": {},
   "source": [
    "## 8.15 打印模型\n",
    "将示例print_models.py中的函数放在另一个名为printing_functions.py的文件中；在print_models.py的开头编写一条import语句，并修改这个文件以使用导入的函数。\n",
    "略"
   ]
  },
  {
   "cell_type": "markdown",
   "metadata": {},
   "source": [
    "## 8.16-8.17 略"
   ]
  }
 ],
 "metadata": {
  "kernelspec": {
   "display_name": "Python 3",
   "language": "python",
   "name": "python3"
  },
  "language_info": {
   "codemirror_mode": {
    "name": "ipython",
    "version": 3
   },
   "file_extension": ".py",
   "mimetype": "text/x-python",
   "name": "python",
   "nbconvert_exporter": "python",
   "pygments_lexer": "ipython3",
   "version": "3.7.3"
  }
 },
 "nbformat": 4,
 "nbformat_minor": 2
}
