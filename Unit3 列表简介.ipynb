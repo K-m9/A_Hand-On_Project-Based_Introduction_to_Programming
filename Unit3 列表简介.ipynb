{
 "cells": [
  {
   "cell_type": "code",
   "execution_count": 8,
   "metadata": {},
   "outputs": [],
   "source": [
    "from IPython.core.interactiveshell import InteractiveShell\n",
    "InteractiveShell.ast_node_interactivity='all'"
   ]
  },
  {
   "cell_type": "markdown",
   "metadata": {},
   "source": [
    "## 3.1 姓名\n",
    "将一些朋友的姓名存储在一个列表中，并将其命名为names。依次访问该列表中的每个元素，从而将每个朋友的姓名都打印出来。"
   ]
  },
  {
   "cell_type": "code",
   "execution_count": 9,
   "metadata": {},
   "outputs": [
    {
     "name": "stdout",
     "output_type": "stream",
     "text": [
      "Tom\n",
      "Timmy\n",
      "Jack\n",
      "Cathy\n"
     ]
    }
   ],
   "source": [
    "names=['Tom','Timmy','Jack','Cathy']\n",
    "for name in names:\n",
    "    print(name)"
   ]
  },
  {
   "cell_type": "markdown",
   "metadata": {},
   "source": [
    "## 3.2 问候语\n",
    "继续使用3.1中的列表，但不打印每个朋友的姓名，而为每人打印一条消息。每条消息都包含相同的问候语，但抬头为相应朋友的姓名。"
   ]
  },
  {
   "cell_type": "code",
   "execution_count": 10,
   "metadata": {},
   "outputs": [
    {
     "name": "stdout",
     "output_type": "stream",
     "text": [
      "Tom, hi, how are you?\n",
      "Timmy, hi, how are you?\n",
      "Jack, hi, how are you?\n",
      "Cathy, hi, how are you?\n"
     ]
    }
   ],
   "source": [
    "for name in names:\n",
    "    print(name+', hi, how are you?')"
   ]
  },
  {
   "cell_type": "markdown",
   "metadata": {},
   "source": [
    "## 3.3 自己的列表\n",
    "想想你喜欢的通勤方式，如骑摩托车或开汽车，并创建一个包含多种通勤方式的列表。根据该列表打印一系列有关这些通勤方式的宣言，如\"I would like to own a Honda motorcycle\"。"
   ]
  },
  {
   "cell_type": "code",
   "execution_count": 11,
   "metadata": {},
   "outputs": [
    {
     "name": "stdout",
     "output_type": "stream",
     "text": [
      "I like to go to work by bike.\n",
      "I like to go to work on foot.\n",
      "I like to go to work by bus.\n",
      "I like to go to work by subway.\n"
     ]
    }
   ],
   "source": [
    "commuting_modes=['by bike','on foot','by bus','by subway']\n",
    "for mode in commuting_modes:\n",
    "    print('I like to go to work '+mode+'.')"
   ]
  },
  {
   "cell_type": "markdown",
   "metadata": {},
   "source": [
    "## 3.4 嘉宾名单\n",
    "如果你可以邀请任何人一起共进晚餐（无论是在世的还是故去的），你会邀请哪些人？请创建一个列表，其中包含至少3个你想邀请的人；然后使用这个列表打印消息，邀请这些人来与你共进晚餐。"
   ]
  },
  {
   "cell_type": "code",
   "execution_count": 12,
   "metadata": {},
   "outputs": [
    {
     "name": "stdout",
     "output_type": "stream",
     "text": [
      "Dear Tom. I look forward to hearing from you soon.\n",
      "Dear Timmy. I look forward to hearing from you soon.\n",
      "Dear Jack. I look forward to hearing from you soon.\n",
      "Dear Cathy. I look forward to hearing from you soon.\n"
     ]
    }
   ],
   "source": [
    "invitees=['tom','timmy','Jack','Cathy']\n",
    "for name in invitees:\n",
    "    print('Dear '+name.title()+'. I look forward to hearing from you soon.')"
   ]
  },
  {
   "cell_type": "markdown",
   "metadata": {},
   "source": [
    "## 3.5 修改嘉宾名单\n",
    "你刚得知有位嘉宾无法赴约，因此需要另外邀请一位嘉宾：\n",
    "- 以完成练习3-4时编写的程序为基础，在程序末尾添加一条print语句，指出哪位嘉宾无法赴约。\n",
    "- 修改嘉宾名单，将无法赴约的嘉宾的姓名替换为新邀请的嘉宾的姓名。\n",
    "- 再次打印一系列消息，向名单中的每位嘉宾发出邀请。"
   ]
  },
  {
   "cell_type": "code",
   "execution_count": 13,
   "metadata": {},
   "outputs": [
    {
     "name": "stdout",
     "output_type": "stream",
     "text": [
      "Dear Timmy. I look forward to hearing from you soon.\n",
      "Dear Jack. I look forward to hearing from you soon.\n",
      "Dear Cathy. I look forward to hearing from you soon.\n",
      "Dear Jimmy. I look forward to hearing from you soon.\n",
      "Tom could not come.\n"
     ]
    }
   ],
   "source": [
    "invitees=['tom','timmy','Jack','Cathy']\n",
    "absentee='tom'\n",
    "invitees.remove(absentee)\n",
    "\n",
    "#替换为新邀请的嘉宾\n",
    "new_invitee='jimmy'\n",
    "invitees.append(new_invitee)\n",
    "#print(invitees)\n",
    "\n",
    "for name in invitees:\n",
    "    print('Dear '+name.title()+'. I look forward to hearing from you soon.')\n",
    "print(absentee.title()+' could not come.')"
   ]
  },
  {
   "cell_type": "markdown",
   "metadata": {},
   "source": [
    "## 3.6 添加嘉宾\n",
    "添加三位嘉宾。\n",
    "- 以完成3-4或3-5时编写的程序为基础，在程序末尾添加一条print语句，指出你找到了一个更大的餐桌。\n",
    "- 使用insert()将一位新嘉宾添加到名单开头。\n",
    "- 使用insert()将另一位新嘉宾添加到名单中间。\n",
    "- 使用append()将最后一位新嘉宾添加到名单中间。\n",
    "- 打印一系列消息，向名单中的每位嘉宾发出邀请。"
   ]
  },
  {
   "cell_type": "code",
   "execution_count": 14,
   "metadata": {},
   "outputs": [
    {
     "name": "stdout",
     "output_type": "stream",
     "text": [
      "['John', 'timmy', 'Amy', 'Jack', 'Cathy', 'jimmy', 'Lucy']\n",
      "Dear John. I look forward to hearing from you soon.\n",
      "I have found a bigger table for everyone.\n",
      "Dear Timmy. I look forward to hearing from you soon.\n",
      "I have found a bigger table for everyone.\n",
      "Dear Amy. I look forward to hearing from you soon.\n",
      "I have found a bigger table for everyone.\n",
      "Dear Jack. I look forward to hearing from you soon.\n",
      "I have found a bigger table for everyone.\n",
      "Dear Cathy. I look forward to hearing from you soon.\n",
      "I have found a bigger table for everyone.\n",
      "Dear Jimmy. I look forward to hearing from you soon.\n",
      "I have found a bigger table for everyone.\n",
      "Dear Lucy. I look forward to hearing from you soon.\n",
      "I have found a bigger table for everyone.\n"
     ]
    }
   ],
   "source": [
    "new_invitees=['John','Amy','Lucy']\n",
    "invitees.insert(0,new_invitees[0])\n",
    "invitees.insert(2,new_invitees[1])\n",
    "invitees.append(new_invitees[2])\n",
    "print(invitees)\n",
    "for name in invitees:\n",
    "    print('Dear '+name.title()+'. I look forward to hearing from you soon.')\n",
    "    print('I have found a bigger table for everyone.')"
   ]
  },
  {
   "cell_type": "markdown",
   "metadata": {},
   "source": [
    "## 3.7 缩减名单\n",
    "新购买的餐桌无法及时送达，因此只能邀请两位嘉宾。\n",
    "- 以完成练习3-6时编写的程序为基础，在程序末尾添加一行代码，打印一条你只能邀请两位嘉宾共进晚餐的消息。\n",
    "- 使用pop()不断地删除名单中的嘉宾，直到只有两位嘉宾为止。每次从名单中弹出一位嘉宾时，都打印一条消息，让该嘉宾知悉你很抱歉，无法邀请他来共进晚餐。\n",
    "- 对于余下的两位嘉宾中的每一位，都打印一条消息，指出他依然在受邀人之列。\n",
    "- 使用del将最后两位嘉宾从名单中删除，让名单变成空的。打印该名单，核实程序结束时名单确实是空的。"
   ]
  },
  {
   "cell_type": "code",
   "execution_count": 15,
   "metadata": {},
   "outputs": [
    {
     "name": "stdout",
     "output_type": "stream",
     "text": [
      "Hi, Lucy. I'm sorry for not being able to treat you to dinner.\n",
      "The new table could not be delivered in time, so only two guests could be invited.\n",
      "Hi, Jimmy. I'm sorry for not being able to treat you to dinner.\n",
      "The new table could not be delivered in time, so only two guests could be invited.\n",
      "Hi, Cathy. I'm sorry for not being able to treat you to dinner.\n",
      "The new table could not be delivered in time, so only two guests could be invited.\n",
      "Hi, Jack. I'm sorry for not being able to treat you to dinner.\n",
      "The new table could not be delivered in time, so only two guests could be invited.\n",
      "Hi, Amy. I'm sorry for not being able to treat you to dinner.\n",
      "The new table could not be delivered in time, so only two guests could be invited.\n"
     ]
    }
   ],
   "source": [
    "length=len(invitees)\n",
    "for i in range(length-2):\n",
    "    name=invitees.pop()\n",
    "    print('Hi, '+name.title()+'. I\\'m sorry for not being able to treat you to dinner.')\n",
    "    print('The new table could not be delivered in time, so only two guests could be invited.')"
   ]
  },
  {
   "cell_type": "code",
   "execution_count": 16,
   "metadata": {},
   "outputs": [
    {
     "name": "stdout",
     "output_type": "stream",
     "text": [
      "Hi, John. The new table could not be delivered in time, so only two guests could be invited.And you are still in the list. I look forward to hear from you soon.\n",
      "Hi, Timmy. The new table could not be delivered in time, so only two guests could be invited.And you are still in the list. I look forward to hear from you soon.\n"
     ]
    }
   ],
   "source": [
    "#print(invitees)\n",
    "#注意换行 / 前后不能有空格\n",
    "for name in invitees:\n",
    "    print('Hi, '+name.title()+'. The new table could not be delivered in time, so only two guests could be invited.'\\\n",
    "          'And you are still in the list. I look forward to hear from you soon.')"
   ]
  },
  {
   "cell_type": "code",
   "execution_count": 17,
   "metadata": {},
   "outputs": [
    {
     "name": "stdout",
     "output_type": "stream",
     "text": [
      "[]\n"
     ]
    }
   ],
   "source": [
    "for i in range(len(invitees)):\n",
    "    del invitees[0]\n",
    "print(invitees)"
   ]
  },
  {
   "cell_type": "markdown",
   "metadata": {},
   "source": [
    "## 3.8 放眼世界\n",
    "想出至少5个你渴望去旅游的地方。\n",
    "- 将这些地方存储在一个列表中，并确保其中的元素不是按字母顺序排列的。\n",
    "- 按原始排列顺序打印该列表，不要考虑输出是否整洁的问题，只管打印原始python列表。\n",
    "- 使用sorted()按字母顺序打印这个列表，同时不要修改它。\n",
    "- 再次打印该列表，核实排列顺序未变。\n",
    "- 使用sorted()按与字母顺序相反的顺序打印这个列表，同时不要修改它。\n",
    "- 再次打印该列表，核实排列顺序未变。\n",
    "- 使用reverse()修改列表元素的排列顺序。打印该列表，核实排列顺序确实变了。\n",
    "- 使用reverse()再次修改列表元素的排列顺序。打印该列表，核实已恢复到原来的排列顺序。\n",
    "- 使用sort()修改该列表，使其元素按字母排列。打印该列表，核实排列顺序确实变了。\n",
    "- 使用sort()修改该列表，使其元素按与字母相反顺序排列。打印该列表，核实排列顺序确实变了。"
   ]
  },
  {
   "cell_type": "code",
   "execution_count": 18,
   "metadata": {},
   "outputs": [
    {
     "name": "stdout",
     "output_type": "stream",
     "text": [
      "['Edinburgh', 'London', 'Glasgow', 'Dublin', 'Island']\n",
      "['Dublin', 'Edinburgh', 'Glasgow', 'Island', 'London']\n",
      "['Edinburgh', 'London', 'Glasgow', 'Dublin', 'Island']\n",
      "['London', 'Island', 'Glasgow', 'Edinburgh', 'Dublin']\n",
      "['Edinburgh', 'London', 'Glasgow', 'Dublin', 'Island']\n",
      "['Island', 'Dublin', 'Glasgow', 'London', 'Edinburgh']\n",
      "['Edinburgh', 'London', 'Glasgow', 'Dublin', 'Island']\n",
      "['Dublin', 'Edinburgh', 'Glasgow', 'Island', 'London']\n",
      "['London', 'Island', 'Glasgow', 'Edinburgh', 'Dublin']\n"
     ]
    }
   ],
   "source": [
    "places=['Edinburgh','London','Glasgow','Dublin','Island']\n",
    "print(places)\n",
    "print(sorted(places))\n",
    "print(places)\n",
    "print(sorted(places,reverse=True))\n",
    "print(places)\n",
    "\n",
    "places.reverse()\n",
    "print(places)\n",
    "places.reverse()\n",
    "print(places)\n",
    "places.sort()\n",
    "print(places)\n",
    "places.sort(reverse=True)\n",
    "print(places)"
   ]
  },
  {
   "cell_type": "markdown",
   "metadata": {},
   "source": [
    "## 3.9 晚餐嘉宾\n",
    "在完成练习3.4-3.7时编写的程序之一中，使用len()打印一条消息，指出你邀请了多少位嘉宾来与你共进晚餐。"
   ]
  },
  {
   "cell_type": "code",
   "execution_count": 19,
   "metadata": {},
   "outputs": [
    {
     "data": {
      "text/plain": [
       "0"
      ]
     },
     "execution_count": 19,
     "metadata": {},
     "output_type": "execute_result"
    }
   ],
   "source": [
    "len(invitees)"
   ]
  },
  {
   "cell_type": "markdown",
   "metadata": {},
   "source": [
    "## 3.10 尝试使用各个函数\n",
    "略"
   ]
  }
 ],
 "metadata": {
  "kernelspec": {
   "display_name": "Python 3",
   "language": "python",
   "name": "python3"
  },
  "language_info": {
   "codemirror_mode": {
    "name": "ipython",
    "version": 3
   },
   "file_extension": ".py",
   "mimetype": "text/x-python",
   "name": "python",
   "nbconvert_exporter": "python",
   "pygments_lexer": "ipython3",
   "version": "3.7.3"
  }
 },
 "nbformat": 4,
 "nbformat_minor": 2
}
