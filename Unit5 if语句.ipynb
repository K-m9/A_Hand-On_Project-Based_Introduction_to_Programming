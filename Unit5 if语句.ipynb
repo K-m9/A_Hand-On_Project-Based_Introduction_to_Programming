{
 "cells": [
  {
   "cell_type": "code",
   "execution_count": 3,
   "metadata": {},
   "outputs": [],
   "source": [
    "from IPython.core.interactiveshell import InteractiveShell\n",
    "InteractiveShell.ast_node_interactivity='all'"
   ]
  },
  {
   "cell_type": "markdown",
   "metadata": {},
   "source": [
    "## 5.1-5.2 \n",
    "略"
   ]
  },
  {
   "cell_type": "markdown",
   "metadata": {},
   "source": [
    "## 5.3 外星人颜色#1\n",
    "假设在游戏中刚射杀了一个外星人，请创建一个名为alien_color的变量，并将其设置为'green'、'yellow'或'red'。\n",
    "- 编写一条if语句，检查外星人是否是绿色的；如果是，就打印一条消息，指出玩家获得了5个点。\n",
    "- 编写这个程序的两个版本，在一个版本中上述测试通过了，而在另一个版本中未通过（未通过测试时没有输出）。"
   ]
  },
  {
   "cell_type": "code",
   "execution_count": 4,
   "metadata": {},
   "outputs": [],
   "source": [
    "alien_color='yellow'\n",
    "if alien_color=='green':\n",
    "    print('Player gained 5 score.')"
   ]
  },
  {
   "cell_type": "code",
   "execution_count": 5,
   "metadata": {},
   "outputs": [
    {
     "name": "stdout",
     "output_type": "stream",
     "text": [
      "Player gained 5 score.\n"
     ]
    }
   ],
   "source": [
    "alien_color='green'\n",
    "if alien_color=='green':\n",
    "    print('Player gained 5 score.')"
   ]
  },
  {
   "cell_type": "markdown",
   "metadata": {},
   "source": [
    "## 5.4 外星人颜色#2\n",
    "像练习5.3那样设置外星人的颜色，并编写一个if-else结构。\n",
    "- 如果外星人是绿色的，就打印一条消息，指出玩家因射杀该外星人获得了5个点。\n",
    "- 如果外星人不是绿色的，就打印一条消息，指出玩家获得了10个点。\n",
    "- 编写这个程序的两个版本，在一个版本中值性if代码块，而在另一个版本中执行else代码块。"
   ]
  },
  {
   "cell_type": "code",
   "execution_count": 6,
   "metadata": {},
   "outputs": [
    {
     "name": "stdout",
     "output_type": "stream",
     "text": [
      "Player gained 10 score.\n"
     ]
    }
   ],
   "source": [
    "alien_color='yellow'\n",
    "if alien_color=='green':\n",
    "    print('Player gained 5 score.')\n",
    "else:\n",
    "    print('Player gained 10 score.')"
   ]
  },
  {
   "cell_type": "code",
   "execution_count": 7,
   "metadata": {},
   "outputs": [
    {
     "name": "stdout",
     "output_type": "stream",
     "text": [
      "Player gained 5 score.\n"
     ]
    }
   ],
   "source": [
    "alien_color='green'\n",
    "if alien_color=='green':\n",
    "    print('Player gained 5 score.')\n",
    "else:\n",
    "    print('Player gained 10 score.')"
   ]
  },
  {
   "cell_type": "markdown",
   "metadata": {},
   "source": [
    "## 5.5-5.6 略"
   ]
  },
  {
   "cell_type": "markdown",
   "metadata": {},
   "source": [
    "## 5.7 喜欢的水果\n",
    "创建一个列表，其中包含你喜欢的水果，再编写一系列独立的if语句，检查别表中是否包含特定的水果。\n",
    "- 将该列表命名为favorite_fruits，并在其中包含三种水果。\n",
    "- 编写5条if语句，每条都检查某种水果是否包含在列表中，如果包含在列表中，就打印一条消息，如\"You really like bananas!\""
   ]
  },
  {
   "cell_type": "code",
   "execution_count": 10,
   "metadata": {},
   "outputs": [
    {
     "name": "stdout",
     "output_type": "stream",
     "text": [
      "You really like bananas!\n"
     ]
    }
   ],
   "source": [
    "favorite_fruits=['bananas','peach','mango']\n",
    "fruits=['bananas','peach','apple','lemon']\n",
    "if 'bananas' in favorite_fruits:\n",
    "    print(\"You really like bananas!\")"
   ]
  },
  {
   "cell_type": "markdown",
   "metadata": {},
   "source": [
    "## 5.8 以特殊方式跟管理员打招呼\n",
    "创建一个至少包含5个用户名的列表，且其中一个用户名为'admin'。想象你要编写代码，在每位用户登陆网站后都打印一条问候消息。遍历用户名列表，并向美味用户打印一条问候消息。\n",
    "- 如果用户名为'admin'，就打印一条特殊的问候消息，如'Hello admin, would you like to see a status report?'。\n",
    "- 否则，打印一条普通的问候消息，如'Hello Eric, thank you for logging in again'。"
   ]
  },
  {
   "cell_type": "code",
   "execution_count": 12,
   "metadata": {},
   "outputs": [
    {
     "name": "stdout",
     "output_type": "stream",
     "text": [
      "Hello admin, would you like to see a status report?\n",
      "Hello Eric, thank you for logging in again.\n",
      "Hello Jimmy, thank you for logging in again.\n"
     ]
    }
   ],
   "source": [
    "users=['admin','Eric','jimmy']\n",
    "for user in users:\n",
    "    if user=='admin':\n",
    "        print('Hello admin, would you like to see a status report?')\n",
    "    else:\n",
    "        print('Hello '+user.title()+', thank you for logging in again.')"
   ]
  },
  {
   "cell_type": "markdown",
   "metadata": {},
   "source": [
    "## 5.9 处理没有用户的情形\n",
    "在为完成练习5.8编写的程序中，添加一条if语句，检查用户名列表是否为空。\n",
    "- 如果为空，就打印消息\"We need to find some users!\"。\n",
    "- 删除列表中的所有用户名，确定打印正确的消息。"
   ]
  },
  {
   "cell_type": "code",
   "execution_count": 15,
   "metadata": {},
   "outputs": [
    {
     "name": "stdout",
     "output_type": "stream",
     "text": [
      "Hello admin, would you like to see a status report?\n",
      "Hello Eric, thank you for logging in again.\n",
      "Hello Jimmy, thank you for logging in again.\n"
     ]
    }
   ],
   "source": [
    "if users:\n",
    "    for user in users:\n",
    "        if user=='admin':\n",
    "            print('Hello admin, would you like to see a status report?')\n",
    "        else:\n",
    "            print('Hello '+user.title()+', thank you for logging in again.')\n",
    "else:\n",
    "    print(\"We need to find some users!\")"
   ]
  },
  {
   "cell_type": "code",
   "execution_count": 16,
   "metadata": {},
   "outputs": [
    {
     "name": "stdout",
     "output_type": "stream",
     "text": [
      "We need to find some users!\n"
     ]
    }
   ],
   "source": [
    "users=[]\n",
    "if users:\n",
    "    for user in users:\n",
    "        if user=='admin':\n",
    "            print('Hello admin, would you like to see a status report?')\n",
    "        else:\n",
    "            print('Hello '+user.title()+', thank you for logging in again.')\n",
    "else:\n",
    "    print(\"We need to find some users!\")"
   ]
  },
  {
   "cell_type": "markdown",
   "metadata": {},
   "source": [
    "## 5.10 检查用户名\n",
    "按下面的说明编写一个程序，模拟网站确保每位用户的用户姓名都独一无二的方式。\n",
    "- 创建一个至少包含5个用户名的列表，并将其命名为current_users。\n",
    "- 再创建一个包含5个用户名的列表，并将其命名为new_users，并确保其中有一两个用户名也包含再列表current_users中。\n",
    "- 遍历列表new_users，对于其中的每个用户名，都检查它是否已被使用。如果是这样，就打印一条消息，指出需要输入别的用户名；否则，打印一条消息，指出这个用户名未被使用。\n",
    "- 确保比较时不区分大小写；换句话说，如果用户名'John'已被使用，应拒绝用户名'JOHN'。"
   ]
  },
  {
   "cell_type": "code",
   "execution_count": 4,
   "metadata": {},
   "outputs": [
    {
     "name": "stdout",
     "output_type": "stream",
     "text": [
      "Please input another user.\n",
      "Please input another user.\n",
      "This is a new user.\n",
      "This is a new user.\n",
      "This is a new user.\n"
     ]
    }
   ],
   "source": [
    "current_users=['Mary','Daisy','John','Jimmy','Amy']\n",
    "new_users=['amy','John','Cathy','Ben','Jenny']\n",
    "form_users=[]\n",
    "for user in current_users:\n",
    "    form_users.append(user.title())    \n",
    "\n",
    "for user in new_users:\n",
    "    if user.title() in form_users:\n",
    "        print('Please input another user.')\n",
    "    else:\n",
    "        print('This is a new user.')"
   ]
  },
  {
   "cell_type": "markdown",
   "metadata": {},
   "source": [
    "## 5.11 序数\n",
    "序数表示位置，如1st和2nd。大多数序数都以th结尾，只有1、2和3例外。\n",
    "- 在一个列表中存储数字1-9.\n",
    "- 遍历这个列表。\n",
    "- 在循环中使用一个if-elif-else结构，以打印每个数字对应的序数。输出内容应为1st、2nd、3rd、4th、5th、6th、7th、8th和9th，但每个序数都独占一行。"
   ]
  },
  {
   "cell_type": "code",
   "execution_count": 8,
   "metadata": {},
   "outputs": [
    {
     "name": "stdout",
     "output_type": "stream",
     "text": [
      "1st\n",
      "2nd\n",
      "3rd\n",
      "4th\n",
      "5th\n",
      "6th\n",
      "7th\n",
      "8th\n",
      "9th\n"
     ]
    }
   ],
   "source": [
    "numbers=list(range(1,10))\n",
    "for num in numbers:\n",
    "    if num==1:\n",
    "        print(str(num)+'st')\n",
    "    elif num==2:\n",
    "        print(str(num)+'nd')\n",
    "    elif num==3:\n",
    "        print(str(num)+'rd')\n",
    "    else:\n",
    "        print(str(num)+'th')"
   ]
  }
 ],
 "metadata": {
  "kernelspec": {
   "display_name": "Python 3",
   "language": "python",
   "name": "python3"
  },
  "language_info": {
   "codemirror_mode": {
    "name": "ipython",
    "version": 3
   },
   "file_extension": ".py",
   "mimetype": "text/x-python",
   "name": "python",
   "nbconvert_exporter": "python",
   "pygments_lexer": "ipython3",
   "version": "3.7.3"
  }
 },
 "nbformat": 4,
 "nbformat_minor": 2
}
